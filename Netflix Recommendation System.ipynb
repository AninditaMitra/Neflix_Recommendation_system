{
  "nbformat": 4,
  "nbformat_minor": 0,
  "metadata": {
    "colab": {
      "provenance": [],
      "collapsed_sections": [
        "rqliEjHfsp1Q",
        "3nRef7B6suKn",
        "obGFfd3a_MfV"
      ]
    },
    "kernelspec": {
      "name": "python3",
      "display_name": "Python 3"
    },
    "language_info": {
      "name": "python"
    }
  },
  "cells": [
    {
      "cell_type": "markdown",
      "source": [
        "**Team Members**\n",
        "\n",
        "Anindita Mitra (UIN - 659991967)\n",
        "\n",
        "Sri Harshitha Karuturi (UIN 664151796)"
      ],
      "metadata": {
        "id": "1k5G06IhADpy"
      }
    },
    {
      "cell_type": "code",
      "execution_count": null,
      "metadata": {
        "colab": {
          "base_uri": "https://localhost:8080/"
        },
        "id": "g8hhMF4awkeE",
        "outputId": "65313b96-f7f4-474e-b5d5-b8c5296450af"
      },
      "outputs": [
        {
          "output_type": "stream",
          "name": "stdout",
          "text": [
            "Drive already mounted at /content/drive; to attempt to forcibly remount, call drive.mount(\"/content/drive\", force_remount=True).\n"
          ]
        }
      ],
      "source": [
        "from google.colab import drive\n",
        "drive.mount('/content/drive')"
      ]
    },
    {
      "cell_type": "code",
      "source": [
        "%cd /content/drive/MyDrive"
      ],
      "metadata": {
        "colab": {
          "base_uri": "https://localhost:8080/"
        },
        "id": "b7Eo5kWxzY_I",
        "outputId": "d5dd0967-8a53-437d-e234-0c204fea9fd2"
      },
      "execution_count": null,
      "outputs": [
        {
          "output_type": "stream",
          "name": "stdout",
          "text": [
            "/content/drive/MyDrive\n"
          ]
        }
      ]
    },
    {
      "cell_type": "code",
      "source": [
        "# Download Java Virtual Machine (JVM)\n",
        "!apt-get install openjdk-8-jdk-headless -qq > /dev/null"
      ],
      "metadata": {
        "id": "LDdK4uzQ0efl"
      },
      "execution_count": null,
      "outputs": []
    },
    {
      "cell_type": "code",
      "source": [
        "# Download Spark\n",
        "!wget -q https://archive.apache.org/dist/spark/spark-3.3.1/spark-3.3.1-bin-hadoop3.tgz\n",
        "\n",
        "!tar xf spark-3.3.1-bin-hadoop3.tgz"
      ],
      "metadata": {
        "id": "wT97bWTq0gYL"
      },
      "execution_count": null,
      "outputs": []
    },
    {
      "cell_type": "code",
      "source": [
        "#Set up the environment for Spark\n",
        "import os\n",
        "os.environ[\"JAVA_HOME\"] = \"/usr/lib/jvm/java-8-openjdk-amd64\"\n",
        "os.environ[\"SPARK_HOME\"] = '/content/drive/MyDrive/spark-3.3.1-bin-hadoop3'"
      ],
      "metadata": {
        "id": "3vpnfplN8D0w"
      },
      "execution_count": null,
      "outputs": []
    },
    {
      "cell_type": "code",
      "source": [
        "# Install library for finding Spark\n",
        "!pip install -q findspark"
      ],
      "metadata": {
        "id": "UqFZNsxC-dpc"
      },
      "execution_count": null,
      "outputs": []
    },
    {
      "cell_type": "code",
      "source": [
        "#Install and import the library for locating Spark.\n",
        "# Import the libary\n",
        "import findspark\n",
        "# Initiate findspark\n",
        "findspark.init()\n",
        "# Check the location for Spark\n",
        "findspark.find()"
      ],
      "metadata": {
        "colab": {
          "base_uri": "https://localhost:8080/",
          "height": 35
        },
        "id": "dPFIDv_l9tb3",
        "outputId": "0647b3b4-bd36-46c7-bcd4-8c9f066a820b"
      },
      "execution_count": null,
      "outputs": [
        {
          "output_type": "execute_result",
          "data": {
            "text/plain": [
              "'/content/drive/MyDrive/spark-3.3.1-bin-hadoop3'"
            ],
            "application/vnd.google.colaboratory.intrinsic+json": {
              "type": "string"
            }
          },
          "metadata": {},
          "execution_count": 44
        }
      ]
    },
    {
      "cell_type": "code",
      "source": [
        "!pip install pyspark"
      ],
      "metadata": {
        "colab": {
          "base_uri": "https://localhost:8080/"
        },
        "id": "D_nnKGOH_PY7",
        "outputId": "39a1b939-a7e3-4c68-86d9-69fddd7a3b3f"
      },
      "execution_count": null,
      "outputs": [
        {
          "output_type": "stream",
          "name": "stdout",
          "text": [
            "Looking in indexes: https://pypi.org/simple, https://us-python.pkg.dev/colab-wheels/public/simple/\n",
            "Requirement already satisfied: pyspark in /usr/local/lib/python3.7/dist-packages (3.3.1)\n",
            "Requirement already satisfied: py4j==0.10.9.5 in /usr/local/lib/python3.7/dist-packages (from pyspark) (0.10.9.5)\n"
          ]
        }
      ]
    },
    {
      "cell_type": "code",
      "source": [
        "#Import all the required packages and create a spark session\n",
        "import findspark\n",
        "findspark.init()\n",
        "from pyspark.sql import SparkSession\n",
        "import pandas as pd\n",
        "import numpy as np\n",
        "import pyspark\n",
        "from pyspark import SparkContext, SQLContext\n",
        "import csv\n",
        "from IPython.display import Image, HTML, display\n",
        "import math\n",
        "import matplotlib.pyplot as plt\n",
        "%matplotlib inline\n",
        "import re\n",
        "import seaborn as sns\n",
        "from pyspark.sql import SQLContext\n",
        "# Import the required functions for ALS\n",
        "from pyspark.ml.recommendation import ALS\n",
        "# Hyperparameter tuning and cross-validation\n",
        "from pyspark.ml.evaluation import RegressionEvaluator\n",
        "from pyspark.ml.tuning import ParamGridBuilder, CrossValidator\n",
        "from pyspark.sql import Row\n",
        "from pyspark.sql.functions import udf,col,when\n"
      ],
      "metadata": {
        "id": "D_Upeuw7DgYM"
      },
      "execution_count": null,
      "outputs": []
    },
    {
      "cell_type": "code",
      "source": [
        "from pyspark.sql import SparkSession\n",
        "spark = SparkSession \\\n",
        "    .builder \\\n",
        "    .appName(\"Netflix Recommendation Analysis\") \\\n",
        "    .config(\"spark.some.config.option\", \"some-value\") \\\n",
        "    .getOrCreate() #This returns a SparkSession object if already exists, and creates a new one if not exist."
      ],
      "metadata": {
        "id": "cE4MBD2L_sTC"
      },
      "execution_count": null,
      "outputs": []
    },
    {
      "cell_type": "code",
      "source": [
        "#Read all data files into a spark dataframe\n",
        "movies_data = spark.read.load(r\"/content/drive/MyDrive/archive/movies.csv\", format='csv', header = True)\n",
        "ratings_data = spark.read.load(\"/content/drive/MyDrive/archive/ratings.csv\", format='csv', header = True)\n",
        "links_data = spark.read.load(\"/content/drive/MyDrive/archive/links.csv\", format='csv', header = True)\n",
        "tags_data = spark.read.load(r\"/content/drive/MyDrive/archive/tags.csv\", format='csv', header = True)"
      ],
      "metadata": {
        "id": "AHHO81_YGdTz"
      },
      "execution_count": null,
      "outputs": []
    },
    {
      "cell_type": "code",
      "source": [
        "from IPython.core.magic import register_line_cell_magic\n",
        "\n",
        "#Limiting the number of lines that are being displayed\n",
        "max_show_lines = 20         \n",
        "\n",
        "@register_line_cell_magic\n",
        "def sql(line, cell=None):\n",
        "    \"Return a Spark DataFrame for lazy evaluation of the sql. Use: %sql or %%sql\"\n",
        "    val = cell if cell is not None else line \n",
        "    return spark.sql(val)\n",
        "\n",
        "@register_line_cell_magic\n",
        "def sql_show(line, cell=None):\n",
        "    \"Execute sql and show the first max_show_lines lines. Use: %sql_show or %%sql_show\"\n",
        "    val = cell if cell is not None else line \n",
        "    return spark.sql(val).show(max_show_lines)\n",
        "\n",
        "@register_line_cell_magic\n",
        "def sql_display(line, cell=None):\n",
        "    \"\"\"Execute sql and convert results to Pandas DataFrame for pretty display or further processing.\n",
        "    Use: %sql_display or %%sql_display\"\"\"\n",
        "    val = cell if cell is not None else line \n",
        "    return spark.sql(val).limit(max_show_lines).toPandas() "
      ],
      "metadata": {
        "id": "qe78pH7IvdWC"
      },
      "execution_count": null,
      "outputs": []
    },
    {
      "cell_type": "code",
      "source": [
        "movies_data.show(5)\n",
        "ratings_data.show(5)\n",
        "links_data.show(5)\n",
        "tags_data.show(5)"
      ],
      "metadata": {
        "colab": {
          "base_uri": "https://localhost:8080/"
        },
        "id": "q9qlTyMNO0Nh",
        "outputId": "8c42112b-d2b0-446b-cac0-3bcdfadb471c"
      },
      "execution_count": null,
      "outputs": [
        {
          "output_type": "stream",
          "name": "stdout",
          "text": [
            "+-------+--------------------+--------------------+\n",
            "|movieId|               title|              genres|\n",
            "+-------+--------------------+--------------------+\n",
            "|      1|    Toy Story (1995)|Adventure|Animati...|\n",
            "|      2|      Jumanji (1995)|Adventure|Childre...|\n",
            "|      3|Grumpier Old Men ...|      Comedy|Romance|\n",
            "|      4|Waiting to Exhale...|Comedy|Drama|Romance|\n",
            "|      5|Father of the Bri...|              Comedy|\n",
            "+-------+--------------------+--------------------+\n",
            "only showing top 5 rows\n",
            "\n",
            "+------+-------+------+---------+---+\n",
            "|userId|movieId|rating|timestamp|_c4|\n",
            "+------+-------+------+---------+---+\n",
            "|     1|      1|     4|964982703|215|\n",
            "|     1|      3|     4|964981247| 52|\n",
            "|     1|      6|     4|964982224|102|\n",
            "|     1|     47|     5|964983815|203|\n",
            "|     1|     50|     5|964982931|204|\n",
            "+------+-------+------+---------+---+\n",
            "only showing top 5 rows\n",
            "\n",
            "+-------+------+-------+\n",
            "|movieId|imdbId|ntflxid|\n",
            "+-------+------+-------+\n",
            "|      1|114709|    862|\n",
            "|      2|113497|   8844|\n",
            "|      3|113228|  15602|\n",
            "|      4|114885|  31357|\n",
            "|      5|113041|  11862|\n",
            "+-------+------+-------+\n",
            "only showing top 5 rows\n",
            "\n",
            "+------+-------+---------------+----------+\n",
            "|userId|movieId|            tag| timestamp|\n",
            "+------+-------+---------------+----------+\n",
            "|     2|  60756|          funny|1445714994|\n",
            "|     2|  60756|Highly quotable|1445714996|\n",
            "|     2|  60756|   will ferrell|1445714992|\n",
            "|     2|  89774|   Boxing story|1445715207|\n",
            "|     2|  89774|            MMA|1445715200|\n",
            "+------+-------+---------------+----------+\n",
            "only showing top 5 rows\n",
            "\n"
          ]
        }
      ]
    },
    {
      "cell_type": "code",
      "source": [
        "print(\"Showing Movies data summary\")\n",
        "movies_data.describe().show()\n",
        "\n",
        "print(\"Showing ratings data summary\")\n",
        "ratings_data.describe().show()\n",
        "\n",
        "print(\"Showing Links data summary\")\n",
        "links_data.describe().show()\n",
        "\n",
        "print(\"Showing Tags data summary\")\n",
        "tags_data.describe().show()"
      ],
      "metadata": {
        "colab": {
          "base_uri": "https://localhost:8080/"
        },
        "id": "3QTDpbtPpeVH",
        "outputId": "3ddd2be1-3f41-43de-98ac-e7c44a00475c"
      },
      "execution_count": null,
      "outputs": [
        {
          "output_type": "stream",
          "name": "stdout",
          "text": [
            "Showing Movies data summary\n",
            "+-------+------------------+--------------------+------------------+\n",
            "|summary|           movieId|               title|            genres|\n",
            "+-------+------------------+--------------------+------------------+\n",
            "|  count|              9742|                9742|              9742|\n",
            "|   mean|42200.353623485935|                null|              null|\n",
            "| stddev| 52160.49485443825|                null|              null|\n",
            "|    min|                 1|\"11'09\"\"01 - Sept...|(no genres listed)|\n",
            "|    max|             99992|À nous la liberté...|           Western|\n",
            "+-------+------------------+--------------------+------------------+\n",
            "\n",
            "Showing ratings data summary\n",
            "+-------+------------------+----------------+------------------+--------------------+------------------+\n",
            "|summary|            userId|         movieId|            rating|           timestamp|               _c4|\n",
            "+-------+------------------+----------------+------------------+--------------------+------------------+\n",
            "|  count|            100836|          100836|            100836|              100836|            100836|\n",
            "|   mean|326.12756356856676|19435.2957177992| 3.501556983616962|1.2059460873684695E9|58.755801499464475|\n",
            "| stddev| 182.6184914635004|35530.9871987003|1.0425292390606342|2.1626103599513078E8| 61.96667046634607|\n",
            "|    min|                 1|               1|               0.5|          1000129365|                 1|\n",
            "|    max|                99|           99992|                 5|           999873731|                99|\n",
            "+-------+------------------+----------------+------------------+--------------------+------------------+\n",
            "\n",
            "Showing Links data summary\n",
            "+-------+------------------+------------------+------------------+\n",
            "|summary|           movieId|            imdbId|           ntflxid|\n",
            "+-------+------------------+------------------+------------------+\n",
            "|  count|              9742|              9742|              9734|\n",
            "|   mean|42200.353623485935| 677183.8981728598|55162.123792890896|\n",
            "| stddev| 52160.49485443825|1107227.5767597635| 93653.48148734072|\n",
            "|    min|                 1|            100029|               100|\n",
            "|    max|             99992|             99951|              9994|\n",
            "+-------+------------------+------------------+------------------+\n",
            "\n",
            "Showing Tags data summary\n",
            "+-------+------------------+-----------------+-----------+--------------------+\n",
            "|summary|            userId|          movieId|        tag|           timestamp|\n",
            "+-------+------------------+-----------------+-----------+--------------------+\n",
            "|  count|              3683|             3683|       3683|                3683|\n",
            "|   mean| 431.1493347814282|27252.01357588922|       null| 1.320031966823785E9|\n",
            "| stddev|158.47255348483532|43490.55880276775|       null|1.7210245043712625E8|\n",
            "|    min|               103|                1|\"\"\"artsy\"\"\"|          1137179352|\n",
            "|    max|                76|            99917|    zombies|          1537098603|\n",
            "+-------+------------------+-----------------+-----------+--------------------+\n",
            "\n"
          ]
        }
      ]
    },
    {
      "cell_type": "markdown",
      "source": [
        "## Exploratory Data Analysis"
      ],
      "metadata": {
        "id": "Adw0kxGUmIjT"
      }
    },
    {
      "cell_type": "code",
      "source": [
        "#Calculate the number of ratings\n",
        "print(\"Number of ratings: %i\" % ratings_data.count())\n",
        "\n",
        "#print a sample of ratings\n",
        "print(\"Sample of ratings:\")\n",
        "ratings_data.show(5)"
      ],
      "metadata": {
        "colab": {
          "base_uri": "https://localhost:8080/"
        },
        "id": "9C1j0DxFGk6g",
        "outputId": "5cd8a516-5089-4e1d-d44d-5c18426d9fd1"
      },
      "execution_count": null,
      "outputs": [
        {
          "output_type": "stream",
          "name": "stdout",
          "text": [
            "Number of ratings: 100836\n",
            "Sample of ratings:\n",
            "+------+-------+------+---------+---+\n",
            "|userId|movieId|rating|timestamp|_c4|\n",
            "+------+-------+------+---------+---+\n",
            "|     1|      1|     4|964982703|215|\n",
            "|     1|      3|     4|964981247| 52|\n",
            "|     1|      6|     4|964982224|102|\n",
            "|     1|     47|     5|964983815|203|\n",
            "|     1|     50|     5|964982931|204|\n",
            "+------+-------+------+---------+---+\n",
            "only showing top 5 rows\n",
            "\n"
          ]
        }
      ]
    },
    {
      "cell_type": "code",
      "source": [
        "### finding null values in each columns in each dataframe\n",
        "from pyspark.sql.functions import col,isnan, when, count\n",
        "ratings_data.select([count(when(isnan(c) | col(c).isNull(), c)).alias(c) for c in ratings_data.columns]).show()\n",
        "movies_data.select([count(when(isnan(c) | col(c).isNull(), c)).alias(c) for c in movies_data.columns]).show()\n",
        "links_data.select([count(when(isnan(c) | col(c).isNull(), c)).alias(c) for c in links_data.columns]).show()\n",
        "tags_data.select([count(when(isnan(c) | col(c).isNull(), c)).alias(c) for c in tags_data.columns]).show()"
      ],
      "metadata": {
        "colab": {
          "base_uri": "https://localhost:8080/"
        },
        "id": "aaAbm2wGSkag",
        "outputId": "2841f4a8-5a96-45ea-f77f-62db131da396"
      },
      "execution_count": null,
      "outputs": [
        {
          "output_type": "stream",
          "name": "stdout",
          "text": [
            "+------+-------+------+---------+---+\n",
            "|userId|movieId|rating|timestamp|_c4|\n",
            "+------+-------+------+---------+---+\n",
            "|     0|      0|     0|        0|  0|\n",
            "+------+-------+------+---------+---+\n",
            "\n",
            "+-------+-----+------+\n",
            "|movieId|title|genres|\n",
            "+-------+-----+------+\n",
            "|      0|    0|     0|\n",
            "+-------+-----+------+\n",
            "\n",
            "+-------+------+-------+\n",
            "|movieId|imdbId|ntflxid|\n",
            "+-------+------+-------+\n",
            "|      0|     0|      8|\n",
            "+-------+------+-------+\n",
            "\n",
            "+------+-------+---+---------+\n",
            "|userId|movieId|tag|timestamp|\n",
            "+------+-------+---+---------+\n",
            "|     0|      0|  0|        0|\n",
            "+------+-------+---+---------+\n",
            "\n"
          ]
        }
      ]
    },
    {
      "cell_type": "code",
      "source": [
        "#Get the number of users, total ratings & movies\n",
        "num_of_user = ratings_data.select('userId').distinct().count()\n",
        "print('Number of Users: {}'.format(num_of_user))\n",
        "\n",
        "total_rating = ratings_data.select('rating').count()\n",
        "print('Total number of ratings: {}'.format(total_rating))\n",
        "\n",
        "num_of_movies = movies_data.select('movieId').distinct().count()\n",
        "print('Number of Movies: {}'.format(num_of_movies))"
      ],
      "metadata": {
        "colab": {
          "base_uri": "https://localhost:8080/"
        },
        "id": "lTo18BdbfgWS",
        "outputId": "77848dc0-cdfa-46bc-d605-c42e5a16a11a"
      },
      "execution_count": null,
      "outputs": [
        {
          "output_type": "stream",
          "name": "stdout",
          "text": [
            "Number of Users: 610\n",
            "Total number of ratings: 100836\n",
            "Number of Movies: 9742\n"
          ]
        }
      ]
    },
    {
      "cell_type": "code",
      "source": [
        "def get_mat_sparsity(ratings):\n",
        "    # Count the total number of ratings in the dataset\n",
        "    count_nonzero = ratings.select(\"rating\").count()\n",
        "\n",
        "    # Count the number of distinct userIds and distinct movieIds\n",
        "    total_elements = ratings.select(\"userId\").distinct().count() * ratings.select(\"movieId\").distinct().count()\n",
        "\n",
        "    # Divide the numerator by the denominator\n",
        "    sparsity = (1.0 - (count_nonzero *1.0)/total_elements)*100\n",
        "    print(\"The ratings dataframe is \", \"%.2f\" % sparsity + \"% sparse.\")\n",
        "    \n",
        "get_mat_sparsity(ratings_data)"
      ],
      "metadata": {
        "colab": {
          "base_uri": "https://localhost:8080/"
        },
        "id": "LMAOuAo9QUPu",
        "outputId": "1e27f950-b218-4647-f10f-b8cd4b54ff7e"
      },
      "execution_count": null,
      "outputs": [
        {
          "output_type": "stream",
          "name": "stdout",
          "text": [
            "The ratings dataframe is  98.30% sparse.\n"
          ]
        }
      ]
    },
    {
      "cell_type": "code",
      "source": [
        "# Join both the data frames to add movie data into ratings\n",
        "movie_ratings = ratings_data.join(movies_data, ['movieId'], 'left')\n",
        "movie_ratings.show()"
      ],
      "metadata": {
        "id": "pebal61nSw5Q",
        "colab": {
          "base_uri": "https://localhost:8080/"
        },
        "outputId": "633ee7bb-23c7-47af-ab9e-38ba42d2938e"
      },
      "execution_count": null,
      "outputs": [
        {
          "output_type": "stream",
          "name": "stdout",
          "text": [
            "+-------+------+------+---------+---+--------------------+--------------------+\n",
            "|movieId|userId|rating|timestamp|_c4|               title|              genres|\n",
            "+-------+------+------+---------+---+--------------------+--------------------+\n",
            "|      1|     1|     4|964982703|215|    Toy Story (1995)|Adventure|Animati...|\n",
            "|      3|     1|     4|964981247| 52|Grumpier Old Men ...|      Comedy|Romance|\n",
            "|      6|     1|     4|964982224|102|         Heat (1995)|Action|Crime|Thri...|\n",
            "|     47|     1|     5|964983815|203|Seven (a.k.a. Se7...|    Mystery|Thriller|\n",
            "|     50|     1|     5|964982931|204|Usual Suspects, T...|Crime|Mystery|Thr...|\n",
            "|     70|     1|     3|964982400| 55|From Dusk Till Da...|Action|Comedy|Hor...|\n",
            "|    101|     1|     5|964980868| 23|Bottle Rocket (1996)|Adventure|Comedy|...|\n",
            "|    110|     1|     4|964982176|237|   Braveheart (1995)|    Action|Drama|War|\n",
            "|    151|     1|     5|964984041| 44|      Rob Roy (1995)|Action|Drama|Roma...|\n",
            "|    157|     1|     5|964984100| 11|Canadian Bacon (1...|          Comedy|War|\n",
            "|    163|     1|     5|964983650| 66|    Desperado (1995)|Action|Romance|We...|\n",
            "|    216|     1|     5|964981208| 49|Billy Madison (1995)|              Comedy|\n",
            "|    223|     1|     3|964980985|104|       Clerks (1994)|              Comedy|\n",
            "|    231|     1|     5|964981179|133|Dumb & Dumber (Du...|    Adventure|Comedy|\n",
            "|    235|     1|     4|964980908| 70|      Ed Wood (1994)|        Comedy|Drama|\n",
            "|    260|     1|     5|964981680|251|Star Wars: Episod...|Action|Adventure|...|\n",
            "|    296|     1|     3|964982967|307| Pulp Fiction (1994)|Comedy|Crime|Dram...|\n",
            "|    316|     1|     3|964982310|140|     Stargate (1994)|Action|Adventure|...|\n",
            "|    333|     1|     5|964981179| 50|    Tommy Boy (1995)|              Comedy|\n",
            "|    349|     1|     4|964982563|110|Clear and Present...|Action|Crime|Dram...|\n",
            "+-------+------+------+---------+---+--------------------+--------------------+\n",
            "only showing top 20 rows\n",
            "\n"
          ]
        }
      ]
    },
    {
      "cell_type": "code",
      "source": [
        "ratings_df = ratings_data.select(\"movieId\", \"userId\", \"rating\")"
      ],
      "metadata": {
        "id": "GeO05SwWQv5T"
      },
      "execution_count": null,
      "outputs": []
    },
    {
      "cell_type": "code",
      "source": [
        "from pyspark.sql.functions import udf\n",
        "from pyspark.sql.types import *\n",
        "from pyspark.sql.types import StructType\n",
        "\n",
        "import re\n",
        "#Create a UDF that extracts the release year from the title and returns the new title and year as a struct type.\n",
        "def extract_year_fn(title):\n",
        "    result = re.search(\"\\(\\d{4}\\)\", title)\n",
        "    try:\n",
        "        if result:\n",
        "            group = result.group()\n",
        "            year = group[1:-1]\n",
        "            start_pos = result.start()\n",
        "            title = title[:start_pos-1]\n",
        "            return (title, year)\n",
        "        else:\n",
        "            return (title, None)\n",
        "    except:\n",
        "        print(title)\n",
        "\n",
        "extract_year = udf(extract_year_fn, StructType([StructField(\"title\", StringType(), True),StructField(\"release_date\", StringType(), True)]))"
      ],
      "metadata": {
        "id": "GlQ8-6BFRJJD"
      },
      "execution_count": null,
      "outputs": []
    },
    {
      "cell_type": "code",
      "source": [
        "#Clean the movie data\n",
        "movies_df = movies_data.select(\n",
        "    \"movieId\", extract_year(\"title\").title.alias(\"title\"),\\\n",
        "    extract_year(\"title\").release_date.alias(\"release_date\"),\\\n",
        "   \"genres\")\n",
        "\n",
        "#display the movie data after cleaning\n",
        "print(\"Cleaned movie data:\")\n",
        "movies_df.show(5, truncate=False)"
      ],
      "metadata": {
        "id": "IPCVZDrtY_qR",
        "colab": {
          "base_uri": "https://localhost:8080/"
        },
        "outputId": "061f2f64-2846-4434-dc8b-4ed740571de2"
      },
      "execution_count": null,
      "outputs": [
        {
          "output_type": "stream",
          "name": "stdout",
          "text": [
            "Cleaned movie data:\n",
            "+-------+---------------------------+------------+-------------------------------------------+\n",
            "|movieId|title                      |release_date|genres                                     |\n",
            "+-------+---------------------------+------------+-------------------------------------------+\n",
            "|1      |Toy Story                  |1995        |Adventure|Animation|Children|Comedy|Fantasy|\n",
            "|2      |Jumanji                    |1995        |Adventure|Children|Fantasy                 |\n",
            "|3      |Grumpier Old Men           |1995        |Comedy|Romance                             |\n",
            "|4      |Waiting to Exhale          |1995        |Comedy|Drama|Romance                       |\n",
            "|5      |Father of the Bride Part II|1995        |Comedy                                     |\n",
            "+-------+---------------------------+------------+-------------------------------------------+\n",
            "only showing top 5 rows\n",
            "\n"
          ]
        }
      ]
    },
    {
      "cell_type": "code",
      "source": [
        "# Combine movies with links to get netflix id\n",
        "movies = movies_df.join(links_data, movies_df.movieId == links_data.movieId)\\\n",
        "    .select(movies_df.movieId, movies_df.title, movies_df.release_date, movies_df.genres,links_data.imdbId, links_data.ntflxid)\n",
        "\n",
        "print(\"number of movies data in movies dataset with ntflxid links: %i\" % movies.count())\n",
        "print(\"number of movies data in movies dataset: %i\" % movies_df.count())\n",
        "movies.show(5, truncate=False)"
      ],
      "metadata": {
        "colab": {
          "base_uri": "https://localhost:8080/"
        },
        "id": "WpmFlumzW12v",
        "outputId": "8c2d8b40-adfd-42b1-c107-3395d238f473"
      },
      "execution_count": null,
      "outputs": [
        {
          "output_type": "stream",
          "name": "stdout",
          "text": [
            "number of movies data in movies dataset with ntflxid links: 9742\n",
            "number of movies data in movies dataset: 9742\n",
            "+-------+---------------------------+------------+-------------------------------------------+------+-------+\n",
            "|movieId|title                      |release_date|genres                                     |imdbId|ntflxid|\n",
            "+-------+---------------------------+------------+-------------------------------------------+------+-------+\n",
            "|1      |Toy Story                  |1995        |Adventure|Animation|Children|Comedy|Fantasy|114709|862    |\n",
            "|2      |Jumanji                    |1995        |Adventure|Children|Fantasy                 |113497|8844   |\n",
            "|3      |Grumpier Old Men           |1995        |Comedy|Romance                             |113228|15602  |\n",
            "|4      |Waiting to Exhale          |1995        |Comedy|Drama|Romance                       |114885|31357  |\n",
            "|5      |Father of the Bride Part II|1995        |Comedy                                     |113041|11862  |\n",
            "+-------+---------------------------+------------+-------------------------------------------+------+-------+\n",
            "only showing top 5 rows\n",
            "\n"
          ]
        }
      ]
    },
    {
      "cell_type": "code",
      "source": [
        "ratings_df = ratings_df.withColumn(\"userId\", ratings_df[\"userId\"].cast(LongType()))\n",
        "ratings_df = ratings_df.withColumn(\"movieId\", ratings_df[\"movieId\"].cast(LongType()))\n",
        "ratings_df = ratings_df.withColumn(\"rating\", ratings_df[\"rating\"].cast(FloatType()))\n"
      ],
      "metadata": {
        "id": "fov7sTHAW16I"
      },
      "execution_count": null,
      "outputs": []
    },
    {
      "cell_type": "code",
      "source": [
        "## creating view for each dataframe\n",
        "movies_df.createOrReplaceTempView('movies')\n",
        "ratings_df.createOrReplaceTempView('ratings')\n",
        "tags_data.createOrReplaceTempView('tags')"
      ],
      "metadata": {
        "id": "X_8JWcWeygYm"
      },
      "execution_count": null,
      "outputs": []
    },
    {
      "cell_type": "code",
      "source": [
        "## average rating for categories\n",
        "categories = spark.sql(\n",
        "                   '''Select cte.category, count(*) as rate_num, avg(rating) as avg_rate\n",
        "                      From movies m\n",
        "                      Join\n",
        "                        (Select movieId, title, explode(split(genres,'\\\\\\\\|')) as category\n",
        "                        From movies) cte\n",
        "                      on m.movieId=cte.movieId\n",
        "                      Join ratings r on m.movieId=r.movieId\n",
        "                      Group by cte.category\n",
        "                      Order by 2 Desc''')"
      ],
      "metadata": {
        "id": "Y5pNKeqqW2Be"
      },
      "execution_count": null,
      "outputs": []
    },
    {
      "cell_type": "code",
      "source": [
        "#Plot graph to see average rating for each movie category & the nuber of ratings per movie category\n",
        "fig, (ax1, ax2) = plt.subplots(figsize=(10,6), ncols=2, constrained_layout=True)\n",
        "categories_p = categories.toPandas()\n",
        "\n",
        "xticks = [cate[0] for cate in categories.select(\"category\").collect()]\n",
        "\n",
        "#Plot for Average rating per movie category\n",
        "ax1.plot('category','avg_rate',data=categories_p, color='#458B74')\n",
        "ax1.set_xlabel(\"Categories\")\n",
        "ax1.set_xticklabels(xticks,rotation=90)\n",
        "ax1.set_ylabel(\"Average rating\")\n",
        "ax1.set_title(\"Average rating for each category\", y=1.08)\n",
        "ax1.legend()\n",
        "\n",
        "#Plot for Number of ratings per movie category\n",
        "ax2.plot('category','rate_num',data=categories_p, color='#458B74')\n",
        "ax2.set_xlabel(\"Categories\")\n",
        "ax2.set_xticklabels(xticks,rotation=90)\n",
        "ax2.set_ylabel(\"Rating number\")\n",
        "ax2.set_title(\"Rating number for each category\", y=1.08)\n",
        "ax2.legend()"
      ],
      "metadata": {
        "colab": {
          "base_uri": "https://localhost:8080/",
          "height": 475
        },
        "id": "uQo0hT79W2EU",
        "outputId": "3585982b-c83d-4341-adf3-544c41366f7a"
      },
      "execution_count": null,
      "outputs": [
        {
          "output_type": "execute_result",
          "data": {
            "text/plain": [
              "<matplotlib.legend.Legend at 0x7f2f8eb24310>"
            ]
          },
          "metadata": {},
          "execution_count": 65
        },
        {
          "output_type": "display_data",
          "data": {
            "text/plain": [
              "<Figure size 720x432 with 2 Axes>"
            ],
            "image/png": "[encoded data removed]"
          },
          "metadata": {
            "needs_background": "light"
          }
        }
      ]
    },
    {
      "cell_type": "code",
      "source": [
        "## number of movies for categories\n",
        "categories_films = spark.sql(\n",
        "                   '''Select cte.category, count(*) as num_movies\n",
        "                      from (Select movieId, title, explode(split(genres,'\\\\\\\\|')) as category\n",
        "                        From movies) cte\n",
        "                      Group by cte.category\n",
        "                      Order by 2 Desc''')"
      ],
      "metadata": {
        "id": "J0sGj-YpW2J_"
      },
      "execution_count": null,
      "outputs": []
    },
    {
      "cell_type": "code",
      "source": [
        "\n",
        "categories_films.toPandas().plot(figsize = (15,6), kind = \"bar\", color = \"#458B74\",\n",
        "                               x = \"category\", y = \"num_movies\", legend = False)\n",
        "\n",
        "#Plot to display the number of each rating scores\n",
        "plt.xlabel(\"Categories\", fontsize = 15)\n",
        "plt.ylabel(\"Number of movies\", fontsize = 15)\n",
        "plt.title(\"Top categories\", fontsize = 20)\n"
      ],
      "metadata": {
        "colab": {
          "base_uri": "https://localhost:8080/",
          "height": 510
        },
        "id": "bNEJCKRtsNTr",
        "outputId": "6e3e0b8e-ac7e-451a-b765-cf9fce588597"
      },
      "execution_count": null,
      "outputs": [
        {
          "output_type": "execute_result",
          "data": {
            "text/plain": [
              "Text(0.5, 1.0, 'Top categories')"
            ]
          },
          "metadata": {},
          "execution_count": 67
        },
        {
          "output_type": "display_data",
          "data": {
            "text/plain": [
              "<Figure size 1080x432 with 1 Axes>"
            ],
            "image/png": "[encoded data removed]"
          },
          "metadata": {
            "needs_background": "light"
          }
        }
      ]
    },
    {
      "cell_type": "code",
      "source": [
        "#Get the rating scores\n",
        "rating_scores = spark.sql(\n",
        "                    '''Select rating, count(distinct movieId) as num_movies\n",
        "                    From ratings\n",
        "                    Group by rating\n",
        "                    Order by 1''')"
      ],
      "metadata": {
        "id": "DLXWivnrty7g"
      },
      "execution_count": null,
      "outputs": []
    },
    {
      "cell_type": "code",
      "source": [
        "rating_scores.toPandas().plot(figsize = (10,6), kind = \"bar\", color = \"#458B74\",\n",
        "                               x = \"rating\", y = \"num_movies\", legend = False)\n",
        "\n",
        "#Plot to display the number of each rating scores\n",
        "plt.xlabel(\"Rating score\", fontsize = 15)\n",
        "plt.ylabel(\"Number of movies\", fontsize = 15)\n",
        "plt.title(\"Number of movies for rating score\", fontsize = 20)"
      ],
      "metadata": {
        "colab": {
          "base_uri": "https://localhost:8080/",
          "height": 438
        },
        "id": "Npu_RwI4CVyy",
        "outputId": "dc683911-cb20-41f2-ce9a-7fe68981bf63"
      },
      "execution_count": null,
      "outputs": [
        {
          "output_type": "execute_result",
          "data": {
            "text/plain": [
              "Text(0.5, 1.0, 'Number of movies for rating score')"
            ]
          },
          "metadata": {},
          "execution_count": 69
        },
        {
          "output_type": "display_data",
          "data": {
            "text/plain": [
              "<Figure size 720x432 with 1 Axes>"
            ],
            "image/png": "[encoded data removed]"
          },
          "metadata": {
            "needs_background": "light"
          }
        }
      ]
    },
    {
      "cell_type": "code",
      "source": [
        "%%sql_display\n",
        "\n",
        "select max(release_date), min(release_date)\n",
        "from movies"
      ],
      "metadata": {
        "colab": {
          "base_uri": "https://localhost:8080/",
          "height": 81
        },
        "id": "qX-L61B2D7uG",
        "outputId": "38f7e835-6184-4d89-e13c-c444cf2069f7"
      },
      "execution_count": null,
      "outputs": [
        {
          "output_type": "execute_result",
          "data": {
            "text/plain": [
              "  max(release_date) min(release_date)\n",
              "0              2018              1902"
            ],
            "text/html": [
              "\n",
              "  <div id=\"df-6443e9a4-44b0-4260-9f47-ae57ad8e0843\">\n",
              "    <div class=\"colab-df-container\">\n",
              "      <div>\n",
              "<style scoped>\n",
              "    .dataframe tbody tr th:only-of-type {\n",
              "        vertical-align: middle;\n",
              "    }\n",
              "\n",
              "    .dataframe tbody tr th {\n",
              "        vertical-align: top;\n",
              "    }\n",
              "\n",
              "    .dataframe thead th {\n",
              "        text-align: right;\n",
              "    }\n",
              "</style>\n",
              "<table border=\"1\" class=\"dataframe\">\n",
              "  <thead>\n",
              "    <tr style=\"text-align: right;\">\n",
              "      <th></th>\n",
              "      <th>max(release_date)</th>\n",
              "      <th>min(release_date)</th>\n",
              "    </tr>\n",
              "  </thead>\n",
              "  <tbody>\n",
              "    <tr>\n",
              "      <th>0</th>\n",
              "      <td>2018</td>\n",
              "      <td>1902</td>\n",
              "    </tr>\n",
              "  </tbody>\n",
              "</table>\n",
              "</div>\n",
              "      <button class=\"colab-df-convert\" onclick=\"convertToInteractive('df-6443e9a4-44b0-4260-9f47-ae57ad8e0843')\"\n",
              "              title=\"Convert this dataframe to an interactive table.\"\n",
              "              style=\"display:none;\">\n",
              "        \n",
              "  <svg xmlns=\"http://www.w3.org/2000/svg\" height=\"24px\"viewBox=\"0 0 24 24\"\n",
              "       width=\"24px\">\n",
              "    <path d=\"M0 0h24v24H0V0z\" fill=\"none\"/>\n",
              "    <path d=\"M18.56 5.44l.94 2.06.94-2.06 2.06-.94-2.06-.94-.94-2.06-.94 2.06-2.06.94zm-11 1L8.5 8.5l.94-2.06 2.06-.94-2.06-.94L8.5 2.5l-.94 2.06-2.06.94zm10 10l.94 2.06.94-2.06 2.06-.94-2.06-.94-.94-2.06-.94 2.06-2.06.94z\"/><path d=\"M17.41 7.96l-1.37-1.37c-.4-.4-.92-.59-1.43-.59-.52 0-1.04.2-1.43.59L10.3 9.45l-7.72 7.72c-.78.78-.78 2.05 0 2.83L4 21.41c.39.39.9.59 1.41.59.51 0 1.02-.2 1.41-.59l7.78-7.78 2.81-2.81c.8-.78.8-2.07 0-2.86zM5.41 20L4 18.59l7.72-7.72 1.47 1.35L5.41 20z\"/>\n",
              "  </svg>\n",
              "      </button>\n",
              "      \n",
              "  <style>\n",
              "    .colab-df-container {\n",
              "      display:flex;\n",
              "      flex-wrap:wrap;\n",
              "      gap: 12px;\n",
              "    }\n",
              "\n",
              "    .colab-df-convert {\n",
              "      background-color: #E8F0FE;\n",
              "      border: none;\n",
              "      border-radius: 50%;\n",
              "      cursor: pointer;\n",
              "      display: none;\n",
              "      fill: #1967D2;\n",
              "      height: 32px;\n",
              "      padding: 0 0 0 0;\n",
              "      width: 32px;\n",
              "    }\n",
              "\n",
              "    .colab-df-convert:hover {\n",
              "      background-color: #E2EBFA;\n",
              "      box-shadow: 0px 1px 2px rgba(60, 64, 67, 0.3), 0px 1px 3px 1px rgba(60, 64, 67, 0.15);\n",
              "      fill: #174EA6;\n",
              "    }\n",
              "\n",
              "    [theme=dark] .colab-df-convert {\n",
              "      background-color: #3B4455;\n",
              "      fill: #D2E3FC;\n",
              "    }\n",
              "\n",
              "    [theme=dark] .colab-df-convert:hover {\n",
              "      background-color: #434B5C;\n",
              "      box-shadow: 0px 1px 3px 1px rgba(0, 0, 0, 0.15);\n",
              "      filter: drop-shadow(0px 1px 2px rgba(0, 0, 0, 0.3));\n",
              "      fill: #FFFFFF;\n",
              "    }\n",
              "  </style>\n",
              "\n",
              "      <script>\n",
              "        const buttonEl =\n",
              "          document.querySelector('#df-6443e9a4-44b0-4260-9f47-ae57ad8e0843 button.colab-df-convert');\n",
              "        buttonEl.style.display =\n",
              "          google.colab.kernel.accessAllowed ? 'block' : 'none';\n",
              "\n",
              "        async function convertToInteractive(key) {\n",
              "          const element = document.querySelector('#df-6443e9a4-44b0-4260-9f47-ae57ad8e0843');\n",
              "          const dataTable =\n",
              "            await google.colab.kernel.invokeFunction('convertToInteractive',\n",
              "                                                     [key], {});\n",
              "          if (!dataTable) return;\n",
              "\n",
              "          const docLinkHtml = 'Like what you see? Visit the ' +\n",
              "            '<a target=\"_blank\" href=https://colab.research.google.com/notebooks/data_table.ipynb>data table notebook</a>'\n",
              "            + ' to learn more about interactive tables.';\n",
              "          element.innerHTML = '';\n",
              "          dataTable['output_type'] = 'display_data';\n",
              "          await google.colab.output.renderOutput(dataTable, element);\n",
              "          const docLink = document.createElement('div');\n",
              "          docLink.innerHTML = docLinkHtml;\n",
              "          element.appendChild(docLink);\n",
              "        }\n",
              "      </script>\n",
              "    </div>\n",
              "  </div>\n",
              "  "
            ]
          },
          "metadata": {},
          "execution_count": 70
        }
      ]
    },
    {
      "cell_type": "code",
      "source": [
        "%%sql_display\n",
        "\n",
        "select distinct release_date\n",
        "from movies\n",
        "order by release_date"
      ],
      "metadata": {
        "colab": {
          "base_uri": "https://localhost:8080/",
          "height": 677
        },
        "id": "b-k9bDc1vkwa",
        "outputId": "6731c311-74a0-45c2-cf43-bd3fa2ac4406"
      },
      "execution_count": null,
      "outputs": [
        {
          "output_type": "execute_result",
          "data": {
            "text/plain": [
              "   release_date\n",
              "0          None\n",
              "1          1902\n",
              "2          1903\n",
              "3          1908\n",
              "4          1915\n",
              "5          1916\n",
              "6          1917\n",
              "7          1919\n",
              "8          1920\n",
              "9          1921\n",
              "10         1922\n",
              "11         1923\n",
              "12         1924\n",
              "13         1925\n",
              "14         1926\n",
              "15         1927\n",
              "16         1928\n",
              "17         1929\n",
              "18         1930\n",
              "19         1931"
            ],
            "text/html": [
              "\n",
              "  <div id=\"df-71bc8384-feff-4d5b-889a-3b4af8fb4398\">\n",
              "    <div class=\"colab-df-container\">\n",
              "      <div>\n",
              "<style scoped>\n",
              "    .dataframe tbody tr th:only-of-type {\n",
              "        vertical-align: middle;\n",
              "    }\n",
              "\n",
              "    .dataframe tbody tr th {\n",
              "        vertical-align: top;\n",
              "    }\n",
              "\n",
              "    .dataframe thead th {\n",
              "        text-align: right;\n",
              "    }\n",
              "</style>\n",
              "<table border=\"1\" class=\"dataframe\">\n",
              "  <thead>\n",
              "    <tr style=\"text-align: right;\">\n",
              "      <th></th>\n",
              "      <th>release_date</th>\n",
              "    </tr>\n",
              "  </thead>\n",
              "  <tbody>\n",
              "    <tr>\n",
              "      <th>0</th>\n",
              "      <td>None</td>\n",
              "    </tr>\n",
              "    <tr>\n",
              "      <th>1</th>\n",
              "      <td>1902</td>\n",
              "    </tr>\n",
              "    <tr>\n",
              "      <th>2</th>\n",
              "      <td>1903</td>\n",
              "    </tr>\n",
              "    <tr>\n",
              "      <th>3</th>\n",
              "      <td>1908</td>\n",
              "    </tr>\n",
              "    <tr>\n",
              "      <th>4</th>\n",
              "      <td>1915</td>\n",
              "    </tr>\n",
              "    <tr>\n",
              "      <th>5</th>\n",
              "      <td>1916</td>\n",
              "    </tr>\n",
              "    <tr>\n",
              "      <th>6</th>\n",
              "      <td>1917</td>\n",
              "    </tr>\n",
              "    <tr>\n",
              "      <th>7</th>\n",
              "      <td>1919</td>\n",
              "    </tr>\n",
              "    <tr>\n",
              "      <th>8</th>\n",
              "      <td>1920</td>\n",
              "    </tr>\n",
              "    <tr>\n",
              "      <th>9</th>\n",
              "      <td>1921</td>\n",
              "    </tr>\n",
              "    <tr>\n",
              "      <th>10</th>\n",
              "      <td>1922</td>\n",
              "    </tr>\n",
              "    <tr>\n",
              "      <th>11</th>\n",
              "      <td>1923</td>\n",
              "    </tr>\n",
              "    <tr>\n",
              "      <th>12</th>\n",
              "      <td>1924</td>\n",
              "    </tr>\n",
              "    <tr>\n",
              "      <th>13</th>\n",
              "      <td>1925</td>\n",
              "    </tr>\n",
              "    <tr>\n",
              "      <th>14</th>\n",
              "      <td>1926</td>\n",
              "    </tr>\n",
              "    <tr>\n",
              "      <th>15</th>\n",
              "      <td>1927</td>\n",
              "    </tr>\n",
              "    <tr>\n",
              "      <th>16</th>\n",
              "      <td>1928</td>\n",
              "    </tr>\n",
              "    <tr>\n",
              "      <th>17</th>\n",
              "      <td>1929</td>\n",
              "    </tr>\n",
              "    <tr>\n",
              "      <th>18</th>\n",
              "      <td>1930</td>\n",
              "    </tr>\n",
              "    <tr>\n",
              "      <th>19</th>\n",
              "      <td>1931</td>\n",
              "    </tr>\n",
              "  </tbody>\n",
              "</table>\n",
              "</div>\n",
              "      <button class=\"colab-df-convert\" onclick=\"convertToInteractive('df-71bc8384-feff-4d5b-889a-3b4af8fb4398')\"\n",
              "              title=\"Convert this dataframe to an interactive table.\"\n",
              "              style=\"display:none;\">\n",
              "        \n",
              "  <svg xmlns=\"http://www.w3.org/2000/svg\" height=\"24px\"viewBox=\"0 0 24 24\"\n",
              "       width=\"24px\">\n",
              "    <path d=\"M0 0h24v24H0V0z\" fill=\"none\"/>\n",
              "    <path d=\"M18.56 5.44l.94 2.06.94-2.06 2.06-.94-2.06-.94-.94-2.06-.94 2.06-2.06.94zm-11 1L8.5 8.5l.94-2.06 2.06-.94-2.06-.94L8.5 2.5l-.94 2.06-2.06.94zm10 10l.94 2.06.94-2.06 2.06-.94-2.06-.94-.94-2.06-.94 2.06-2.06.94z\"/><path d=\"M17.41 7.96l-1.37-1.37c-.4-.4-.92-.59-1.43-.59-.52 0-1.04.2-1.43.59L10.3 9.45l-7.72 7.72c-.78.78-.78 2.05 0 2.83L4 21.41c.39.39.9.59 1.41.59.51 0 1.02-.2 1.41-.59l7.78-7.78 2.81-2.81c.8-.78.8-2.07 0-2.86zM5.41 20L4 18.59l7.72-7.72 1.47 1.35L5.41 20z\"/>\n",
              "  </svg>\n",
              "      </button>\n",
              "      \n",
              "  <style>\n",
              "    .colab-df-container {\n",
              "      display:flex;\n",
              "      flex-wrap:wrap;\n",
              "      gap: 12px;\n",
              "    }\n",
              "\n",
              "    .colab-df-convert {\n",
              "      background-color: #E8F0FE;\n",
              "      border: none;\n",
              "      border-radius: 50%;\n",
              "      cursor: pointer;\n",
              "      display: none;\n",
              "      fill: #1967D2;\n",
              "      height: 32px;\n",
              "      padding: 0 0 0 0;\n",
              "      width: 32px;\n",
              "    }\n",
              "\n",
              "    .colab-df-convert:hover {\n",
              "      background-color: #E2EBFA;\n",
              "      box-shadow: 0px 1px 2px rgba(60, 64, 67, 0.3), 0px 1px 3px 1px rgba(60, 64, 67, 0.15);\n",
              "      fill: #174EA6;\n",
              "    }\n",
              "\n",
              "    [theme=dark] .colab-df-convert {\n",
              "      background-color: #3B4455;\n",
              "      fill: #D2E3FC;\n",
              "    }\n",
              "\n",
              "    [theme=dark] .colab-df-convert:hover {\n",
              "      background-color: #434B5C;\n",
              "      box-shadow: 0px 1px 3px 1px rgba(0, 0, 0, 0.15);\n",
              "      filter: drop-shadow(0px 1px 2px rgba(0, 0, 0, 0.3));\n",
              "      fill: #FFFFFF;\n",
              "    }\n",
              "  </style>\n",
              "\n",
              "      <script>\n",
              "        const buttonEl =\n",
              "          document.querySelector('#df-71bc8384-feff-4d5b-889a-3b4af8fb4398 button.colab-df-convert');\n",
              "        buttonEl.style.display =\n",
              "          google.colab.kernel.accessAllowed ? 'block' : 'none';\n",
              "\n",
              "        async function convertToInteractive(key) {\n",
              "          const element = document.querySelector('#df-71bc8384-feff-4d5b-889a-3b4af8fb4398');\n",
              "          const dataTable =\n",
              "            await google.colab.kernel.invokeFunction('convertToInteractive',\n",
              "                                                     [key], {});\n",
              "          if (!dataTable) return;\n",
              "\n",
              "          const docLinkHtml = 'Like what you see? Visit the ' +\n",
              "            '<a target=\"_blank\" href=https://colab.research.google.com/notebooks/data_table.ipynb>data table notebook</a>'\n",
              "            + ' to learn more about interactive tables.';\n",
              "          element.innerHTML = '';\n",
              "          dataTable['output_type'] = 'display_data';\n",
              "          await google.colab.output.renderOutput(dataTable, element);\n",
              "          const docLink = document.createElement('div');\n",
              "          docLink.innerHTML = docLinkHtml;\n",
              "          element.appendChild(docLink);\n",
              "        }\n",
              "      </script>\n",
              "    </div>\n",
              "  </div>\n",
              "  "
            ]
          },
          "metadata": {},
          "execution_count": 71
        }
      ]
    },
    {
      "cell_type": "code",
      "source": [
        "#Get the rating scores\n",
        "ReleaseDate1 = spark.sql(\n",
        "                    '''select distinct release_date\n",
        "from movies\n",
        "order by release_date''')"
      ],
      "metadata": {
        "id": "PYqBHt9mxTTz"
      },
      "execution_count": null,
      "outputs": []
    },
    {
      "cell_type": "code",
      "source": [
        "ReleaseDate1.show(100)"
      ],
      "metadata": {
        "id": "G0BEQUOSxZkK"
      },
      "execution_count": null,
      "outputs": []
    },
    {
      "cell_type": "code",
      "source": [
        "#Get the rating scores\n",
        "ReleaseDate = spark.sql(\n",
        "                    '''Select release_date_group, count(distinct movieId) as num_movies\n",
        "                    From (select *,\n",
        "                         case when release_date<1970 then ' before 1970' \n",
        "                         when release_date between 1970 and 1979 then '1970s' \n",
        "                         when release_date between 1980 and 1989 then '1980s'\n",
        "                         when release_date between 1990 and 1999 then '1990s' \n",
        "                         when release_date between 2000 and 2009 then '2000s' else 'after 2010' \n",
        "                         end as release_date_group\n",
        "                        from movies)\n",
        "                    Group by 1\n",
        "                    Order by 1''')"
      ],
      "metadata": {
        "id": "fMYXX9X9GV9t"
      },
      "execution_count": null,
      "outputs": []
    },
    {
      "cell_type": "code",
      "source": [
        "ReleaseDate.toPandas().plot(figsize = (10,6), kind = \"bar\", color = \"#00688B\",\n",
        "                               x = \"release_date_group\", y = \"num_movies\", legend = False)\n",
        "\n",
        "#Plot to display the number of each rating scores\n",
        "plt.xlabel(\"Release Date\", fontsize = 15)\n",
        "plt.ylabel(\"Number of movies\", fontsize = 15)\n",
        "plt.title(\"Number of movies released each year\", fontsize = 20)"
      ],
      "metadata": {
        "id": "SJqSj9KGIRK_",
        "colab": {
          "base_uri": "https://localhost:8080/",
          "height": 486
        },
        "outputId": "26ebc74c-f62e-4f19-b963-4b8f77453df5"
      },
      "execution_count": null,
      "outputs": [
        {
          "output_type": "execute_result",
          "data": {
            "text/plain": [
              "Text(0.5, 1.0, 'Number of movies released each year')"
            ]
          },
          "metadata": {},
          "execution_count": 75
        },
        {
          "output_type": "display_data",
          "data": {
            "text/plain": [
              "<Figure size 720x432 with 1 Axes>"
            ],
            "image/png": "[encoded data removed]"
          },
          "metadata": {
            "needs_background": "light"
          }
        }
      ]
    },
    {
      "cell_type": "code",
      "source": [
        "avg_rating = spark.sql(\n",
        "                  '''Select m.release_date, avg(rating) as average_rating\n",
        "                From ratings r\n",
        "                Join movies m on r.movieId=m.movieId\n",
        "                where rating is not null\n",
        "                Group by 1\n",
        "                Order by 2 desc \n",
        "                limit 10''')"
      ],
      "metadata": {
        "id": "C6F_C7x8eqBA"
      },
      "execution_count": null,
      "outputs": []
    },
    {
      "cell_type": "code",
      "source": [
        "avg_rating.toPandas().plot(figsize = (10,6), kind = \"bar\", color = \"#00688B\",\n",
        "                               x = \"release_date\", y = \"average_rating\", legend = False)\n",
        "\n",
        "#Plot to display the number of each rating scores\n",
        "plt.xlabel(\"Release Date\", fontsize = 15)\n",
        "plt.ylabel(\"Average Rating\", fontsize = 15)\n",
        "plt.title(\"Top 10 years with highest ratings\", fontsize = 20)"
      ],
      "metadata": {
        "colab": {
          "base_uri": "https://localhost:8080/",
          "height": 448
        },
        "id": "moz4UA-uuKHT",
        "outputId": "6c0f1faf-d8fb-4821-883b-7feefd90b45e"
      },
      "execution_count": null,
      "outputs": [
        {
          "output_type": "execute_result",
          "data": {
            "text/plain": [
              "Text(0.5, 1.0, 'Top 10 years with highest ratings')"
            ]
          },
          "metadata": {},
          "execution_count": 77
        },
        {
          "output_type": "display_data",
          "data": {
            "text/plain": [
              "<Figure size 720x432 with 1 Axes>"
            ],
            "image/png": "[encoded data removed]"
          },
          "metadata": {
            "needs_background": "light"
          }
        }
      ]
    },
    {
      "cell_type": "code",
      "source": [
        "%%sql_display\n",
        "\n",
        "Select distinct tag\n",
        "From tags"
      ],
      "metadata": {
        "colab": {
          "base_uri": "https://localhost:8080/",
          "height": 677
        },
        "id": "0XOPW9d8sbQc",
        "outputId": "a807b8b2-9a76-48eb-bf73-9f860c4e9181"
      },
      "execution_count": null,
      "outputs": [
        {
          "output_type": "execute_result",
          "data": {
            "text/plain": [
              "                        tag\n",
              "0                     anime\n",
              "1                      hope\n",
              "2     wrongful imprisonment\n",
              "3                     1970s\n",
              "4                    freaks\n",
              "5                       art\n",
              "6                creativity\n",
              "7        intelligent sci-fi\n",
              "8              Heartwarming\n",
              "9                   lyrical\n",
              "10                   ransom\n",
              "11                    mafia\n",
              "12                   sequel\n",
              "13               Emma Stone\n",
              "14                    scifi\n",
              "15               television\n",
              "16                Wolverine\n",
              "17                    macho\n",
              "18             conversation\n",
              "19  intertwining storylines"
            ],
            "text/html": [
              "\n",
              "  <div id=\"df-7f3ef410-1602-47cb-ad50-399941f989c3\">\n",
              "    <div class=\"colab-df-container\">\n",
              "      <div>\n",
              "<style scoped>\n",
              "    .dataframe tbody tr th:only-of-type {\n",
              "        vertical-align: middle;\n",
              "    }\n",
              "\n",
              "    .dataframe tbody tr th {\n",
              "        vertical-align: top;\n",
              "    }\n",
              "\n",
              "    .dataframe thead th {\n",
              "        text-align: right;\n",
              "    }\n",
              "</style>\n",
              "<table border=\"1\" class=\"dataframe\">\n",
              "  <thead>\n",
              "    <tr style=\"text-align: right;\">\n",
              "      <th></th>\n",
              "      <th>tag</th>\n",
              "    </tr>\n",
              "  </thead>\n",
              "  <tbody>\n",
              "    <tr>\n",
              "      <th>0</th>\n",
              "      <td>anime</td>\n",
              "    </tr>\n",
              "    <tr>\n",
              "      <th>1</th>\n",
              "      <td>hope</td>\n",
              "    </tr>\n",
              "    <tr>\n",
              "      <th>2</th>\n",
              "      <td>wrongful imprisonment</td>\n",
              "    </tr>\n",
              "    <tr>\n",
              "      <th>3</th>\n",
              "      <td>1970s</td>\n",
              "    </tr>\n",
              "    <tr>\n",
              "      <th>4</th>\n",
              "      <td>freaks</td>\n",
              "    </tr>\n",
              "    <tr>\n",
              "      <th>5</th>\n",
              "      <td>art</td>\n",
              "    </tr>\n",
              "    <tr>\n",
              "      <th>6</th>\n",
              "      <td>creativity</td>\n",
              "    </tr>\n",
              "    <tr>\n",
              "      <th>7</th>\n",
              "      <td>intelligent sci-fi</td>\n",
              "    </tr>\n",
              "    <tr>\n",
              "      <th>8</th>\n",
              "      <td>Heartwarming</td>\n",
              "    </tr>\n",
              "    <tr>\n",
              "      <th>9</th>\n",
              "      <td>lyrical</td>\n",
              "    </tr>\n",
              "    <tr>\n",
              "      <th>10</th>\n",
              "      <td>ransom</td>\n",
              "    </tr>\n",
              "    <tr>\n",
              "      <th>11</th>\n",
              "      <td>mafia</td>\n",
              "    </tr>\n",
              "    <tr>\n",
              "      <th>12</th>\n",
              "      <td>sequel</td>\n",
              "    </tr>\n",
              "    <tr>\n",
              "      <th>13</th>\n",
              "      <td>Emma Stone</td>\n",
              "    </tr>\n",
              "    <tr>\n",
              "      <th>14</th>\n",
              "      <td>scifi</td>\n",
              "    </tr>\n",
              "    <tr>\n",
              "      <th>15</th>\n",
              "      <td>television</td>\n",
              "    </tr>\n",
              "    <tr>\n",
              "      <th>16</th>\n",
              "      <td>Wolverine</td>\n",
              "    </tr>\n",
              "    <tr>\n",
              "      <th>17</th>\n",
              "      <td>macho</td>\n",
              "    </tr>\n",
              "    <tr>\n",
              "      <th>18</th>\n",
              "      <td>conversation</td>\n",
              "    </tr>\n",
              "    <tr>\n",
              "      <th>19</th>\n",
              "      <td>intertwining storylines</td>\n",
              "    </tr>\n",
              "  </tbody>\n",
              "</table>\n",
              "</div>\n",
              "      <button class=\"colab-df-convert\" onclick=\"convertToInteractive('df-7f3ef410-1602-47cb-ad50-399941f989c3')\"\n",
              "              title=\"Convert this dataframe to an interactive table.\"\n",
              "              style=\"display:none;\">\n",
              "        \n",
              "  <svg xmlns=\"http://www.w3.org/2000/svg\" height=\"24px\"viewBox=\"0 0 24 24\"\n",
              "       width=\"24px\">\n",
              "    <path d=\"M0 0h24v24H0V0z\" fill=\"none\"/>\n",
              "    <path d=\"M18.56 5.44l.94 2.06.94-2.06 2.06-.94-2.06-.94-.94-2.06-.94 2.06-2.06.94zm-11 1L8.5 8.5l.94-2.06 2.06-.94-2.06-.94L8.5 2.5l-.94 2.06-2.06.94zm10 10l.94 2.06.94-2.06 2.06-.94-2.06-.94-.94-2.06-.94 2.06-2.06.94z\"/><path d=\"M17.41 7.96l-1.37-1.37c-.4-.4-.92-.59-1.43-.59-.52 0-1.04.2-1.43.59L10.3 9.45l-7.72 7.72c-.78.78-.78 2.05 0 2.83L4 21.41c.39.39.9.59 1.41.59.51 0 1.02-.2 1.41-.59l7.78-7.78 2.81-2.81c.8-.78.8-2.07 0-2.86zM5.41 20L4 18.59l7.72-7.72 1.47 1.35L5.41 20z\"/>\n",
              "  </svg>\n",
              "      </button>\n",
              "      \n",
              "  <style>\n",
              "    .colab-df-container {\n",
              "      display:flex;\n",
              "      flex-wrap:wrap;\n",
              "      gap: 12px;\n",
              "    }\n",
              "\n",
              "    .colab-df-convert {\n",
              "      background-color: #E8F0FE;\n",
              "      border: none;\n",
              "      border-radius: 50%;\n",
              "      cursor: pointer;\n",
              "      display: none;\n",
              "      fill: #1967D2;\n",
              "      height: 32px;\n",
              "      padding: 0 0 0 0;\n",
              "      width: 32px;\n",
              "    }\n",
              "\n",
              "    .colab-df-convert:hover {\n",
              "      background-color: #E2EBFA;\n",
              "      box-shadow: 0px 1px 2px rgba(60, 64, 67, 0.3), 0px 1px 3px 1px rgba(60, 64, 67, 0.15);\n",
              "      fill: #174EA6;\n",
              "    }\n",
              "\n",
              "    [theme=dark] .colab-df-convert {\n",
              "      background-color: #3B4455;\n",
              "      fill: #D2E3FC;\n",
              "    }\n",
              "\n",
              "    [theme=dark] .colab-df-convert:hover {\n",
              "      background-color: #434B5C;\n",
              "      box-shadow: 0px 1px 3px 1px rgba(0, 0, 0, 0.15);\n",
              "      filter: drop-shadow(0px 1px 2px rgba(0, 0, 0, 0.3));\n",
              "      fill: #FFFFFF;\n",
              "    }\n",
              "  </style>\n",
              "\n",
              "      <script>\n",
              "        const buttonEl =\n",
              "          document.querySelector('#df-7f3ef410-1602-47cb-ad50-399941f989c3 button.colab-df-convert');\n",
              "        buttonEl.style.display =\n",
              "          google.colab.kernel.accessAllowed ? 'block' : 'none';\n",
              "\n",
              "        async function convertToInteractive(key) {\n",
              "          const element = document.querySelector('#df-7f3ef410-1602-47cb-ad50-399941f989c3');\n",
              "          const dataTable =\n",
              "            await google.colab.kernel.invokeFunction('convertToInteractive',\n",
              "                                                     [key], {});\n",
              "          if (!dataTable) return;\n",
              "\n",
              "          const docLinkHtml = 'Like what you see? Visit the ' +\n",
              "            '<a target=\"_blank\" href=https://colab.research.google.com/notebooks/data_table.ipynb>data table notebook</a>'\n",
              "            + ' to learn more about interactive tables.';\n",
              "          element.innerHTML = '';\n",
              "          dataTable['output_type'] = 'display_data';\n",
              "          await google.colab.output.renderOutput(dataTable, element);\n",
              "          const docLink = document.createElement('div');\n",
              "          docLink.innerHTML = docLinkHtml;\n",
              "          element.appendChild(docLink);\n",
              "        }\n",
              "      </script>\n",
              "    </div>\n",
              "  </div>\n",
              "  "
            ]
          },
          "metadata": {},
          "execution_count": 78
        }
      ]
    },
    {
      "cell_type": "code",
      "source": [
        "from wordcloud import WordCloud, STOPWORDS\n",
        "tags_pd = tags_data.toPandas()\n",
        "text = tags_pd.tag[0]\n",
        "\n",
        "# Create and generate a word cloud image:\n",
        "wordcloud = WordCloud().generate(text)\n",
        "#To build a wordcloud, we have to remove NULL values first:\n",
        "tags_pd['tag'] = tags_pd['tag'].fillna(value=\"\")\n",
        "#Now let's add a string value instead to make our Series clean:\n",
        "word_string=\" \".join(tags_pd['tag'].str.lower())\n",
        "\n",
        "#word_string\n",
        "#And - plotting:\n",
        "\n",
        "plt.figure(figsize=(15,15))\n",
        "wc = WordCloud(background_color=\"#8B2323\", stopwords = STOPWORDS, max_words=2000, max_font_size= 300,  width=1600, height=800, min_font_size = 10)\n",
        "wc.generate(word_string)\n",
        "\n",
        "plt.imshow(wc.recolor( colormap= 'viridis' , random_state=17), interpolation=\"bilinear\")\n",
        "plt.axis('off')\n"
      ],
      "metadata": {
        "colab": {
          "base_uri": "https://localhost:8080/",
          "height": 556
        },
        "id": "7IGCa02aUMD0",
        "outputId": "3d60b009-d07d-4dee-b7da-69e8a3e58110"
      },
      "execution_count": null,
      "outputs": [
        {
          "output_type": "stream",
          "name": "stderr",
          "text": [
            "Exception ignored in: <function JavaWrapper.__del__ at 0x7f2f95a78710>\n",
            "Traceback (most recent call last):\n",
            "  File \"/content/drive/MyDrive/spark-3.3.1-bin-hadoop3/python/pyspark/ml/wrapper.py\", line 53, in __del__\n",
            "    if SparkContext._active_spark_context and self._java_obj is not None:\n",
            "AttributeError: 'ALS' object has no attribute '_java_obj'\n"
          ]
        },
        {
          "output_type": "execute_result",
          "data": {
            "text/plain": [
              "(-0.5, 1599.5, 799.5, -0.5)"
            ]
          },
          "metadata": {},
          "execution_count": 81
        },
        {
          "output_type": "display_data",
          "data": {
            "text/plain": [
              "<Figure size 1080x1080 with 1 Axes>"
            ],
            "image/png": "[encoded data removed]"
          },
          "metadata": {
            "needs_background": "light"
          }
        }
      ]
    },
    {
      "cell_type": "markdown",
      "source": [
        "## Building ALS model"
      ],
      "metadata": {
        "id": "kABe4QCl6Hfr"
      }
    },
    {
      "cell_type": "code",
      "source": [
        "sc = spark.sparkContext\n",
        "sqlContext=SQLContext(sc)"
      ],
      "metadata": {
        "colab": {
          "base_uri": "https://localhost:8080/"
        },
        "id": "dH_cu6ymV-oy",
        "outputId": "249001fd-1bf4-4324-cb3f-5b5c90c48ae5"
      },
      "execution_count": null,
      "outputs": [
        {
          "output_type": "stream",
          "name": "stderr",
          "text": [
            "/content/drive/MyDrive/spark-3.3.1-bin-hadoop3/python/pyspark/sql/context.py:114: FutureWarning: Deprecated in 3.0.0. Use SparkSession.builder.getOrCreate() instead.\n",
            "  FutureWarning,\n"
          ]
        }
      ]
    },
    {
      "cell_type": "code",
      "source": [
        "#Splitting the data into training and testing data with a 80:20 ratio\n",
        "training_df, test_df = ratings_df.randomSplit([0.8,0.2])"
      ],
      "metadata": {
        "id": "E3Xj1JWbxEQI"
      },
      "execution_count": null,
      "outputs": []
    },
    {
      "cell_type": "code",
      "source": [
        "#Define the iterations \n",
        "iterations=10\n",
        "regularization_parameter=0.1\n",
        "rank=4\n",
        "error=[]\n",
        "err=0"
      ],
      "metadata": {
        "id": "2HOzN0oZ7cK-"
      },
      "execution_count": null,
      "outputs": []
    },
    {
      "cell_type": "code",
      "source": [
        "#Run the ALS model to get the RMSE score for rank= 5\n",
        "#Creating ALS model and fitting data#\n",
        "als = ALS(maxIter=iterations,\n",
        "          regParam=regularization_parameter,\n",
        "          rank=5,\n",
        "          userCol=\"userId\",\n",
        "          itemCol=\"movieId\",\n",
        "          ratingCol=\"rating\")\n",
        "\n",
        "model=als.fit(training_df)\n"
      ],
      "metadata": {
        "id": "-ak7eqn27gjY"
      },
      "execution_count": null,
      "outputs": []
    },
    {
      "cell_type": "code",
      "source": [
        "#Generate predictions and evaluate rmse\n",
        "predictions=model.transform(test_df)\n",
        "new_predictions=predictions.filter(col('prediction')!=np.nan)\n",
        "\n",
        "# Define evaluator and select rmse as metricName in evaluator.\n",
        "evaluator=RegressionEvaluator(metricName=\"rmse\", labelCol=\"rating\", predictionCol=\"prediction\")\n",
        "rmse=evaluator.evaluate(new_predictions)\n",
        "print(\"Root Mean Square Error=\"+str(rmse))"
      ],
      "metadata": {
        "colab": {
          "base_uri": "https://localhost:8080/"
        },
        "id": "dDw-bJQE7hcL",
        "outputId": "3570f74d-9d8d-438a-a608-162b5f99b796"
      },
      "execution_count": null,
      "outputs": [
        {
          "output_type": "stream",
          "name": "stdout",
          "text": [
            "Root Mean Square Error=1.0050297248617284\n"
          ]
        }
      ]
    },
    {
      "cell_type": "code",
      "source": [
        "#now feed both param_grid and evaluator into the crossvalidator including the ALS model. \n",
        "#I have chosen number of folds as 5.\n",
        "\n",
        "# Add hyperparameters and their respective values to param_grid\n",
        "param_grid = ParamGridBuilder() \\\n",
        "            .addGrid(als.rank, [4,5,6,7,8,9,10]) \\\n",
        "            .addGrid(als.regParam, [.01, .05, .1, .5]) \\\n",
        "            .build()\n",
        "\n",
        "# Build cross validation using CrossValidator\n",
        "cv = CrossValidator(estimator=als, estimatorParamMaps=param_grid, evaluator=evaluator, numFolds=5)\n",
        "\n",
        "# Confirm cv was built\n",
        "print(cv)\n",
        "\n",
        "#Fit cross validator to the 'train' dataset\n",
        "model = cv.fit(training_df)\n"
      ],
      "metadata": {
        "colab": {
          "base_uri": "https://localhost:8080/"
        },
        "id": "tE5K2WTW_Avb",
        "outputId": "f58c1c13-b4d8-4e6e-ca02-9b81e6c09da8"
      },
      "execution_count": null,
      "outputs": [
        {
          "output_type": "stream",
          "name": "stdout",
          "text": [
            "CrossValidator_d09417945720\n"
          ]
        }
      ]
    },
    {
      "cell_type": "code",
      "source": [
        "#Extract best model from the cv model above\n",
        "best_model = model.bestModel\n",
        "\n",
        "# Print best_model\n",
        "print(type(best_model))\n",
        "\n",
        "# Complete the code below to extract the ALS model parameters\n",
        "print(\"**Best Model**\")\n",
        "\n",
        "# # Print \"Rank\"\n",
        "print(\"  Rank:\", best_model._java_obj.parent().getRank())\n",
        "\n",
        "# Print \"MaxIter\"\n",
        "print(\"  MaxIter:\", best_model._java_obj.parent().getMaxIter())\n",
        "\n",
        "# Print \"RegParam\"\n",
        "print(\"  RegParam:\", best_model._java_obj.parent().getRegParam())"
      ],
      "metadata": {
        "colab": {
          "base_uri": "https://localhost:8080/"
        },
        "id": "I5khHLRL_7eu",
        "outputId": "4ccc89c9-5b0e-4d97-cad0-4249b9820d9e"
      },
      "execution_count": null,
      "outputs": [
        {
          "output_type": "stream",
          "name": "stdout",
          "text": [
            "<class 'pyspark.ml.recommendation.ALSModel'>\n",
            "**Best Model**\n",
            "  Rank: 4\n",
            "  MaxIter: 10\n",
            "  RegParam: 0.01\n"
          ]
        }
      ]
    },
    {
      "cell_type": "code",
      "source": [
        "# View the predictions\n",
        "test_predictions = best_model.transform(test_df)\n",
        "new_test_predictions=test_predictions.filter(col('prediction')!=np.nan)\n",
        "\n",
        "RMSE = evaluator.evaluate(new_test_predictions)\n",
        "print(RMSE)"
      ],
      "metadata": {
        "colab": {
          "base_uri": "https://localhost:8080/"
        },
        "id": "b2ZbRS7yA_9t",
        "outputId": "a9129895-16d0-4965-a544-37e6ca5c9ad7"
      },
      "execution_count": null,
      "outputs": [
        {
          "output_type": "stream",
          "name": "stdout",
          "text": [
            "1.005029724861724\n"
          ]
        }
      ]
    },
    {
      "cell_type": "code",
      "source": [
        "#Display the predictions\n",
        "predictions.show(n=10)"
      ],
      "metadata": {
        "colab": {
          "base_uri": "https://localhost:8080/"
        },
        "id": "uFbqZ0xI982D",
        "outputId": "f9df5c97-c10e-45ac-bc00-3654e7ba9f0b"
      },
      "execution_count": null,
      "outputs": [
        {
          "output_type": "stream",
          "name": "stdout",
          "text": [
            "+-------+------+------+----------+\n",
            "|movieId|userId|rating|prediction|\n",
            "+-------+------+------+----------+\n",
            "|      1|    78|   4.0| 3.9018793|\n",
            "|      1|    91|   4.0| 3.6725109|\n",
            "|      1|    96|   5.0| 3.9908664|\n",
            "|      1|     5|   4.0|  4.077856|\n",
            "|      1|    43|   5.0|  5.209178|\n",
            "|      1|    50|   3.0| 3.0002434|\n",
            "|      1|    98|   4.5|  4.193316|\n",
            "|      1|    32|   3.0| 4.0741086|\n",
            "|      1|    71|   5.0|  3.424359|\n",
            "|      1|   124|   4.0|  4.118909|\n",
            "+-------+------+------+----------+\n",
            "only showing top 10 rows\n",
            "\n"
          ]
        }
      ]
    },
    {
      "cell_type": "code",
      "source": [
        "#Join the movie title to display with the predictions\n",
        "predictions.join(movies_df,\"movieId\").select(\"userId\",\"title\",\"genres\",\"prediction\").show(15)"
      ],
      "metadata": {
        "colab": {
          "base_uri": "https://localhost:8080/"
        },
        "id": "QtH_lcAD99TT",
        "outputId": "7b2c2150-5c16-4b7d-f5f3-e938376ad436"
      },
      "execution_count": null,
      "outputs": [
        {
          "output_type": "stream",
          "name": "stdout",
          "text": [
            "+------+--------------------+--------------------+----------+\n",
            "|userId|               title|              genres|prediction|\n",
            "+------+--------------------+--------------------+----------+\n",
            "|   362|The Devil's Advocate|Drama|Mystery|Thr...| 3.8460474|\n",
            "|   155|        Galaxy Quest|Adventure|Comedy|...|  3.745172|\n",
            "|   368|Men in Black (a.k...|Action|Comedy|Sci-Fi| 3.0561771|\n",
            "|   368|           King Kong|Action|Adventure|...| 3.4579997|\n",
            "|   368|Hellbound: Hellra...|              Horror| 2.1598108|\n",
            "|   115|The Devil's Advocate|Drama|Mystery|Thr...| 1.9926245|\n",
            "|   101|        Galaxy Quest|Adventure|Comedy|...|  3.797411|\n",
            "|   385|          Local Hero|              Comedy|  3.644411|\n",
            "|   587|        Galaxy Quest|Adventure|Comedy|...|  4.148562|\n",
            "|   577|Men in Black (a.k...|Action|Comedy|Sci-Fi|   3.61124|\n",
            "|   384|       Out of Africa|       Drama|Romance|  3.465463|\n",
            "|   606|Men in Black (a.k...|Action|Comedy|Sci-Fi| 3.3930366|\n",
            "|   606|         Chinese Box|       Drama|Romance| 1.8967111|\n",
            "|   409|Hudsucker Proxy, The|              Comedy|  4.175602|\n",
            "|   493|           King Kong|Action|Adventure|...| 4.9049067|\n",
            "+------+--------------------+--------------------+----------+\n",
            "only showing top 15 rows\n",
            "\n"
          ]
        }
      ]
    },
    {
      "cell_type": "code",
      "source": [
        "#Display the predictions for a particular userid.\n",
        "for_one_user = predictions.filter(col(\"userId\")==78).join(movies_df,\"movieId\").join(links_data,\"movieId\").select(\"userId\",\"title\",\"genres\",\"ntflxid\",\"prediction\")\n",
        "for_one_user.show(5)"
      ],
      "metadata": {
        "colab": {
          "base_uri": "https://localhost:8080/"
        },
        "id": "wbfotmZB_9wx",
        "outputId": "81609d1b-5e5d-4aaf-e681-4f32435621a3"
      },
      "execution_count": null,
      "outputs": [
        {
          "output_type": "stream",
          "name": "stdout",
          "text": [
            "+------+--------------------+--------------------+-------+----------+\n",
            "|userId|               title|              genres|ntflxid|prediction|\n",
            "+------+--------------------+--------------------+-------+----------+\n",
            "|    78|Indiana Jones and...|    Action|Adventure|     89| 3.7843382|\n",
            "|    78|           Toy Story|Adventure|Animati...|    862| 3.9018793|\n",
            "|    78|         Money Train|Action|Comedy|Cri...|  11517| 2.3606682|\n",
            "|    78|         Matrix, The|Action|Sci-Fi|Thr...|    603|  3.990852|\n",
            "|    78|Shawshank Redempt...|         Crime|Drama|    278| 4.2568674|\n",
            "+------+--------------------+--------------------+-------+----------+\n",
            "only showing top 5 rows\n",
            "\n"
          ]
        }
      ]
    },
    {
      "cell_type": "code",
      "source": [
        "#Open the top movies in the web browser of the netflix\n",
        "import webbrowser \n",
        "link=(\"https://www.netflix.com/browse/genre/34399\")\n",
        "for movie in for_one_user.take(5):\n",
        "    movieURL=link+str(movie.ntflxid)\n",
        "    print(movie.title)\n",
        "    webbrowser.open(movieURL)"
      ],
      "metadata": {
        "colab": {
          "base_uri": "https://localhost:8080/"
        },
        "id": "sfsggLmAAAfc",
        "outputId": "3735c22f-0a46-476f-e2e9-3bb153510392"
      },
      "execution_count": null,
      "outputs": [
        {
          "output_type": "stream",
          "name": "stdout",
          "text": [
            "Indiana Jones and the Last Crusade\n",
            "Toy Story\n",
            "Money Train\n",
            "Matrix, The\n",
            "Shawshank Redemption, The\n"
          ]
        }
      ]
    },
    {
      "cell_type": "markdown",
      "source": [
        "#### Generate top 10 movie recommendations for each user\n"
      ],
      "metadata": {
        "id": "rqliEjHfsp1Q"
      }
    },
    {
      "cell_type": "code",
      "source": [
        "userRecs = best_model.recommendForAllUsers(10)\n"
      ],
      "metadata": {
        "id": "Hs10fpZ__Lj_"
      },
      "execution_count": null,
      "outputs": []
    },
    {
      "cell_type": "code",
      "source": [
        "userRecs.printSchema()\n"
      ],
      "metadata": {
        "colab": {
          "base_uri": "https://localhost:8080/"
        },
        "id": "zhGkbipb_Lmj",
        "outputId": "295c8fad-d3f1-4f4c-97bb-38d6a2d10ebc"
      },
      "execution_count": null,
      "outputs": [
        {
          "output_type": "stream",
          "name": "stdout",
          "text": [
            "root\n",
            " |-- userId: integer (nullable = false)\n",
            " |-- recommendations: array (nullable = true)\n",
            " |    |-- element: struct (containsNull = true)\n",
            " |    |    |-- movieId: integer (nullable = true)\n",
            " |    |    |-- rating: float (nullable = true)\n",
            "\n"
          ]
        }
      ]
    },
    {
      "cell_type": "code",
      "source": [
        "userRecs.select(\"userId\",\"recommendations.movieId\").show(10,False)"
      ],
      "metadata": {
        "colab": {
          "base_uri": "https://localhost:8080/"
        },
        "id": "G2HpZTiv_LpK",
        "outputId": "33ec8250-7bed-4fbe-d8d6-2f11518850dc"
      },
      "execution_count": null,
      "outputs": [
        {
          "output_type": "stream",
          "name": "stdout",
          "text": [
            "+------+------------------------------------------------------------------+\n",
            "|userId|movieId                                                           |\n",
            "+------+------------------------------------------------------------------+\n",
            "|1     |[6975, 86347, 82, 7842, 158872, 2290, 73569, 7982, 4902, 4794]    |\n",
            "|3     |[53127, 132800, 2017, 3706, 70994, 6975, 31804, 4248, 49932, 195] |\n",
            "|5     |[158872, 7982, 86347, 1503, 7842, 5080, 7748, 6952, 2290, 3993]   |\n",
            "|6     |[7842, 158872, 2290, 86347, 1658, 6625, 7982, 1503, 7748, 5646]   |\n",
            "|9     |[6975, 5080, 158872, 7982, 86347, 31804, 70994, 1503, 1014, 80126]|\n",
            "|12    |[6975, 4617, 3706, 86347, 79428, 4248, 31804, 7841, 7991, 6264]   |\n",
            "|13    |[2290, 7842, 1979, 58554, 158872, 59727, 37720, 1658, 6625, 3266] |\n",
            "|15    |[158783, 3030, 8951, 6022, 86320, 2935, 25825, 3089, 2184, 2511]  |\n",
            "|16    |[7841, 199, 3706, 97168, 3061, 6975, 3182, 932, 3379, 96004]      |\n",
            "|17    |[6975, 158872, 7982, 86347, 7841, 31804, 7748, 3379, 1503, 4794]  |\n",
            "+------+------------------------------------------------------------------+\n",
            "only showing top 10 rows\n",
            "\n"
          ]
        }
      ]
    },
    {
      "cell_type": "code",
      "source": [
        "#Generate top 10 movie recommendations for a specified set of users\n",
        "\n",
        "##selecting specific users\n",
        "users=ratings_df.select(\"userId\").distinct().limit(5)\n",
        "\n",
        "userSubsetRecs = best_model.recommendForUserSubset(users,10)\n",
        "\n",
        "## Generate top 10 movie recommendations for each user\n",
        "userSubsetRecs.select(\"userId\",\"recommendations.movieId\").show(10,False)"
      ],
      "metadata": {
        "id": "-bhO6PUqszEI"
      },
      "execution_count": null,
      "outputs": []
    },
    {
      "cell_type": "markdown",
      "source": [
        "#### Generate top 10 user recommendations for each movie\n"
      ],
      "metadata": {
        "id": "3nRef7B6suKn"
      }
    },
    {
      "cell_type": "code",
      "source": [
        "movieRecommends = best_model.recommendForAllItems(10)"
      ],
      "metadata": {
        "id": "KoqHaBuOsup2"
      },
      "execution_count": null,
      "outputs": []
    },
    {
      "cell_type": "code",
      "source": [
        "movieRecommends.printSchema()"
      ],
      "metadata": {
        "colab": {
          "base_uri": "https://localhost:8080/"
        },
        "id": "HX2VSn2a_LsT",
        "outputId": "965b2c5b-0fae-4946-ec1c-8e3cf92873a3"
      },
      "execution_count": null,
      "outputs": [
        {
          "output_type": "stream",
          "name": "stdout",
          "text": [
            "root\n",
            " |-- movieId: integer (nullable = false)\n",
            " |-- recommendations: array (nullable = true)\n",
            " |    |-- element: struct (containsNull = true)\n",
            " |    |    |-- userId: integer (nullable = true)\n",
            " |    |    |-- rating: float (nullable = true)\n",
            "\n"
          ]
        }
      ]
    },
    {
      "cell_type": "code",
      "source": [
        "movieRecommends.select(\"movieId\",\"recommendations.userId\").show(10,False)"
      ],
      "metadata": {
        "colab": {
          "base_uri": "https://localhost:8080/"
        },
        "id": "t7IQ_7fu_Lva",
        "outputId": "f2d20cc9-17bd-45af-e8e4-c2a86c279a9d"
      },
      "execution_count": null,
      "outputs": [
        {
          "output_type": "stream",
          "name": "stdout",
          "text": [
            "+-------+--------------------------------------------------+\n",
            "|movieId|userId                                            |\n",
            "+-------+--------------------------------------------------+\n",
            "|1      |[53, 43, 543, 429, 344, 584, 337, 475, 485, 176]  |\n",
            "|3      |[53, 43, 584, 77, 485, 344, 276, 542, 337, 389]   |\n",
            "|5      |[43, 399, 574, 344, 584, 240, 485, 337, 243, 35]  |\n",
            "|6      |[224, 276, 147, 12, 99, 543, 171, 37, 243, 574]   |\n",
            "|9      |[485, 344, 77, 584, 407, 126, 539, 192, 283, 43]  |\n",
            "|12     |[259, 399, 55, 393, 461, 224, 549, 598, 574, 138] |\n",
            "|13     |[344, 485, 418, 584, 399, 426, 258, 126, 83, 43]  |\n",
            "|15     |[399, 461, 598, 418, 138, 258, 574, 255, 224, 589]|\n",
            "|16     |[53, 594, 276, 37, 452, 171, 543, 547, 31, 96]    |\n",
            "|17     |[543, 22, 53, 423, 494, 594, 270, 329, 44, 252]   |\n",
            "+-------+--------------------------------------------------+\n",
            "only showing top 10 rows\n",
            "\n"
          ]
        }
      ]
    },
    {
      "cell_type": "code",
      "source": [
        "# Generate top 10 user recommendations for a specified set of movies\n",
        "movies = ratings_df.select(als.getItemCol()).distinct().limit(3)\n",
        "movieSubSetRecs = best_model.recommendForItemSubset(movies, 10)\n",
        "\n",
        "movieSubSetRecs.select(\"movieId\",\"recommendations.userId\").show(10,False)"
      ],
      "metadata": {
        "colab": {
          "base_uri": "https://localhost:8080/"
        },
        "id": "8mdMVEZIju69",
        "outputId": "e70a0da6-782c-44ff-a5d8-6edca712b4fb"
      },
      "execution_count": null,
      "outputs": [
        {
          "output_type": "stream",
          "name": "stdout",
          "text": [
            "+-------+-------------------------------------------------+\n",
            "|movieId|userId                                           |\n",
            "+-------+-------------------------------------------------+\n",
            "|474    |[53, 276, 147, 31, 37, 243, 452, 231, 112, 542]  |\n",
            "|60756  |[37, 259, 147, 283, 112, 31, 55, 231, 549, 393]  |\n",
            "|2529   |[258, 423, 344, 543, 418, 494, 485, 43, 399, 162]|\n",
            "+-------+-------------------------------------------------+\n",
            "\n"
          ]
        }
      ]
    },
    {
      "cell_type": "markdown",
      "source": [
        "## Recomendations with movie name and genre"
      ],
      "metadata": {
        "id": "obGFfd3a_MfV"
      }
    },
    {
      "cell_type": "code",
      "source": [
        "recommdn = best_model.recommendForAllUsers(10).toPandas()\n",
        "recs_df = recommdn.recommendations.apply(pd.Series) \\\n",
        "            .merge(recommdn, right_index = True, left_index = True) \\\n",
        "            .drop([\"recommendations\"], axis = 1) \\\n",
        "            .melt(id_vars = ['userId'], value_name = \"recommendation\") \\\n",
        "            .drop(\"variable\", axis = 1) \\\n",
        "            .dropna() \n",
        "\n",
        "recs_df = recs_df.sort_values('userId')\n",
        "\n",
        "recs_df=pd.concat([recs_df['recommendation'].apply(pd.Series), recs_df['userId']], axis = 1)\n",
        "\n",
        "recs_df.columns = ['MovieID','Rating', 'UserID']\n"
      ],
      "metadata": {
        "id": "puWNyve5AN49"
      },
      "execution_count": null,
      "outputs": []
    },
    {
      "cell_type": "code",
      "source": [
        "recs_df[recs_df[\"UserID\"]==1]\n",
        "[6975, 86347, 82, 7842, 158872, 2290, 73569, 7982, 4902, 4794]  "
      ],
      "metadata": {
        "colab": {
          "base_uri": "https://localhost:8080/",
          "height": 363
        },
        "id": "niFHCvxctKeE",
        "outputId": "b3b1e081-9ce2-48ee-86d5-d7f570bbb79a"
      },
      "execution_count": null,
      "outputs": [
        {
          "output_type": "execute_result",
          "data": {
            "text/plain": [
              "       MovieID    Rating  UserID\n",
              "0       6975.0  7.328044       1\n",
              "2440  158872.0  6.974326       1\n",
              "3660   73569.0  6.598722       1\n",
              "1830    7842.0  7.041638       1\n",
              "4270    7982.0  6.588324       1\n",
              "1220      82.0  7.125210       1\n",
              "5490    4794.0  6.522273       1\n",
              "610    86347.0  7.271550       1\n",
              "4880    4902.0  6.524091       1\n",
              "3050    2290.0  6.900546       1"
            ],
            "text/html": [
              "\n",
              "  <div id=\"df-8b8d6dd2-619c-4cd7-890e-5277996ed6f6\">\n",
              "    <div class=\"colab-df-container\">\n",
              "      <div>\n",
              "<style scoped>\n",
              "    .dataframe tbody tr th:only-of-type {\n",
              "        vertical-align: middle;\n",
              "    }\n",
              "\n",
              "    .dataframe tbody tr th {\n",
              "        vertical-align: top;\n",
              "    }\n",
              "\n",
              "    .dataframe thead th {\n",
              "        text-align: right;\n",
              "    }\n",
              "</style>\n",
              "<table border=\"1\" class=\"dataframe\">\n",
              "  <thead>\n",
              "    <tr style=\"text-align: right;\">\n",
              "      <th></th>\n",
              "      <th>MovieID</th>\n",
              "      <th>Rating</th>\n",
              "      <th>UserID</th>\n",
              "    </tr>\n",
              "  </thead>\n",
              "  <tbody>\n",
              "    <tr>\n",
              "      <th>0</th>\n",
              "      <td>6975.0</td>\n",
              "      <td>7.328044</td>\n",
              "      <td>1</td>\n",
              "    </tr>\n",
              "    <tr>\n",
              "      <th>2440</th>\n",
              "      <td>158872.0</td>\n",
              "      <td>6.974326</td>\n",
              "      <td>1</td>\n",
              "    </tr>\n",
              "    <tr>\n",
              "      <th>3660</th>\n",
              "      <td>73569.0</td>\n",
              "      <td>6.598722</td>\n",
              "      <td>1</td>\n",
              "    </tr>\n",
              "    <tr>\n",
              "      <th>1830</th>\n",
              "      <td>7842.0</td>\n",
              "      <td>7.041638</td>\n",
              "      <td>1</td>\n",
              "    </tr>\n",
              "    <tr>\n",
              "      <th>4270</th>\n",
              "      <td>7982.0</td>\n",
              "      <td>6.588324</td>\n",
              "      <td>1</td>\n",
              "    </tr>\n",
              "    <tr>\n",
              "      <th>1220</th>\n",
              "      <td>82.0</td>\n",
              "      <td>7.125210</td>\n",
              "      <td>1</td>\n",
              "    </tr>\n",
              "    <tr>\n",
              "      <th>5490</th>\n",
              "      <td>4794.0</td>\n",
              "      <td>6.522273</td>\n",
              "      <td>1</td>\n",
              "    </tr>\n",
              "    <tr>\n",
              "      <th>610</th>\n",
              "      <td>86347.0</td>\n",
              "      <td>7.271550</td>\n",
              "      <td>1</td>\n",
              "    </tr>\n",
              "    <tr>\n",
              "      <th>4880</th>\n",
              "      <td>4902.0</td>\n",
              "      <td>6.524091</td>\n",
              "      <td>1</td>\n",
              "    </tr>\n",
              "    <tr>\n",
              "      <th>3050</th>\n",
              "      <td>2290.0</td>\n",
              "      <td>6.900546</td>\n",
              "      <td>1</td>\n",
              "    </tr>\n",
              "  </tbody>\n",
              "</table>\n",
              "</div>\n",
              "      <button class=\"colab-df-convert\" onclick=\"convertToInteractive('df-8b8d6dd2-619c-4cd7-890e-5277996ed6f6')\"\n",
              "              title=\"Convert this dataframe to an interactive table.\"\n",
              "              style=\"display:none;\">\n",
              "        \n",
              "  <svg xmlns=\"http://www.w3.org/2000/svg\" height=\"24px\"viewBox=\"0 0 24 24\"\n",
              "       width=\"24px\">\n",
              "    <path d=\"M0 0h24v24H0V0z\" fill=\"none\"/>\n",
              "    <path d=\"M18.56 5.44l.94 2.06.94-2.06 2.06-.94-2.06-.94-.94-2.06-.94 2.06-2.06.94zm-11 1L8.5 8.5l.94-2.06 2.06-.94-2.06-.94L8.5 2.5l-.94 2.06-2.06.94zm10 10l.94 2.06.94-2.06 2.06-.94-2.06-.94-.94-2.06-.94 2.06-2.06.94z\"/><path d=\"M17.41 7.96l-1.37-1.37c-.4-.4-.92-.59-1.43-.59-.52 0-1.04.2-1.43.59L10.3 9.45l-7.72 7.72c-.78.78-.78 2.05 0 2.83L4 21.41c.39.39.9.59 1.41.59.51 0 1.02-.2 1.41-.59l7.78-7.78 2.81-2.81c.8-.78.8-2.07 0-2.86zM5.41 20L4 18.59l7.72-7.72 1.47 1.35L5.41 20z\"/>\n",
              "  </svg>\n",
              "      </button>\n",
              "      \n",
              "  <style>\n",
              "    .colab-df-container {\n",
              "      display:flex;\n",
              "      flex-wrap:wrap;\n",
              "      gap: 12px;\n",
              "    }\n",
              "\n",
              "    .colab-df-convert {\n",
              "      background-color: #E8F0FE;\n",
              "      border: none;\n",
              "      border-radius: 50%;\n",
              "      cursor: pointer;\n",
              "      display: none;\n",
              "      fill: #1967D2;\n",
              "      height: 32px;\n",
              "      padding: 0 0 0 0;\n",
              "      width: 32px;\n",
              "    }\n",
              "\n",
              "    .colab-df-convert:hover {\n",
              "      background-color: #E2EBFA;\n",
              "      box-shadow: 0px 1px 2px rgba(60, 64, 67, 0.3), 0px 1px 3px 1px rgba(60, 64, 67, 0.15);\n",
              "      fill: #174EA6;\n",
              "    }\n",
              "\n",
              "    [theme=dark] .colab-df-convert {\n",
              "      background-color: #3B4455;\n",
              "      fill: #D2E3FC;\n",
              "    }\n",
              "\n",
              "    [theme=dark] .colab-df-convert:hover {\n",
              "      background-color: #434B5C;\n",
              "      box-shadow: 0px 1px 3px 1px rgba(0, 0, 0, 0.15);\n",
              "      filter: drop-shadow(0px 1px 2px rgba(0, 0, 0, 0.3));\n",
              "      fill: #FFFFFF;\n",
              "    }\n",
              "  </style>\n",
              "\n",
              "      <script>\n",
              "        const buttonEl =\n",
              "          document.querySelector('#df-8b8d6dd2-619c-4cd7-890e-5277996ed6f6 button.colab-df-convert');\n",
              "        buttonEl.style.display =\n",
              "          google.colab.kernel.accessAllowed ? 'block' : 'none';\n",
              "\n",
              "        async function convertToInteractive(key) {\n",
              "          const element = document.querySelector('#df-8b8d6dd2-619c-4cd7-890e-5277996ed6f6');\n",
              "          const dataTable =\n",
              "            await google.colab.kernel.invokeFunction('convertToInteractive',\n",
              "                                                     [key], {});\n",
              "          if (!dataTable) return;\n",
              "\n",
              "          const docLinkHtml = 'Like what you see? Visit the ' +\n",
              "            '<a target=\"_blank\" href=https://colab.research.google.com/notebooks/data_table.ipynb>data table notebook</a>'\n",
              "            + ' to learn more about interactive tables.';\n",
              "          element.innerHTML = '';\n",
              "          dataTable['output_type'] = 'display_data';\n",
              "          await google.colab.output.renderOutput(dataTable, element);\n",
              "          const docLink = document.createElement('div');\n",
              "          docLink.innerHTML = docLinkHtml;\n",
              "          element.appendChild(docLink);\n",
              "        }\n",
              "      </script>\n",
              "    </div>\n",
              "  </div>\n",
              "  "
            ]
          },
          "metadata": {},
          "execution_count": 139
        }
      ]
    },
    {
      "cell_type": "code",
      "source": [
        "recs_df = recs_df.astype({'MovieID': 'int32'})\n"
      ],
      "metadata": {
        "id": "QvBW1GUUzYs4"
      },
      "execution_count": null,
      "outputs": []
    },
    {
      "cell_type": "code",
      "source": [
        "recs_df.info()"
      ],
      "metadata": {
        "colab": {
          "base_uri": "https://localhost:8080/"
        },
        "id": "HOxtvosxxdtU",
        "outputId": "26b040df-ef0f-4139-df4b-73a969dfc242"
      },
      "execution_count": null,
      "outputs": [
        {
          "output_type": "stream",
          "name": "stdout",
          "text": [
            "<class 'pandas.core.frame.DataFrame'>\n",
            "Int64Index: 6100 entries, 0 to 2745\n",
            "Data columns (total 3 columns):\n",
            " #   Column   Non-Null Count  Dtype  \n",
            "---  ------   --------------  -----  \n",
            " 0   MovieID  6100 non-null   int32  \n",
            " 1   Rating   6100 non-null   float64\n",
            " 2   UserID   6100 non-null   int32  \n",
            "dtypes: float64(1), int32(2)\n",
            "memory usage: 143.0 KB\n"
          ]
        }
      ]
    },
    {
      "cell_type": "code",
      "source": [
        "movies_pd = movies_df.toPandas()\n",
        "movies_pd = movies_pd[[\"movieId\",\"title\", \"genres\"]]\n",
        "movies_pd.head()"
      ],
      "metadata": {
        "colab": {
          "base_uri": "https://localhost:8080/",
          "height": 206
        },
        "id": "JDlKnCgxwFzz",
        "outputId": "ceda3732-acea-4e5c-9319-9db6678bddb1"
      },
      "execution_count": null,
      "outputs": [
        {
          "output_type": "execute_result",
          "data": {
            "text/plain": [
              "  movieId                        title  \\\n",
              "0       1                    Toy Story   \n",
              "1       2                      Jumanji   \n",
              "2       3             Grumpier Old Men   \n",
              "3       4            Waiting to Exhale   \n",
              "4       5  Father of the Bride Part II   \n",
              "\n",
              "                                        genres  \n",
              "0  Adventure|Animation|Children|Comedy|Fantasy  \n",
              "1                   Adventure|Children|Fantasy  \n",
              "2                               Comedy|Romance  \n",
              "3                         Comedy|Drama|Romance  \n",
              "4                                       Comedy  "
            ],
            "text/html": [
              "\n",
              "  <div id=\"df-4f77aa75-5773-47b5-8987-5378a958d480\">\n",
              "    <div class=\"colab-df-container\">\n",
              "      <div>\n",
              "<style scoped>\n",
              "    .dataframe tbody tr th:only-of-type {\n",
              "        vertical-align: middle;\n",
              "    }\n",
              "\n",
              "    .dataframe tbody tr th {\n",
              "        vertical-align: top;\n",
              "    }\n",
              "\n",
              "    .dataframe thead th {\n",
              "        text-align: right;\n",
              "    }\n",
              "</style>\n",
              "<table border=\"1\" class=\"dataframe\">\n",
              "  <thead>\n",
              "    <tr style=\"text-align: right;\">\n",
              "      <th></th>\n",
              "      <th>movieId</th>\n",
              "      <th>title</th>\n",
              "      <th>genres</th>\n",
              "    </tr>\n",
              "  </thead>\n",
              "  <tbody>\n",
              "    <tr>\n",
              "      <th>0</th>\n",
              "      <td>1</td>\n",
              "      <td>Toy Story</td>\n",
              "      <td>Adventure|Animation|Children|Comedy|Fantasy</td>\n",
              "    </tr>\n",
              "    <tr>\n",
              "      <th>1</th>\n",
              "      <td>2</td>\n",
              "      <td>Jumanji</td>\n",
              "      <td>Adventure|Children|Fantasy</td>\n",
              "    </tr>\n",
              "    <tr>\n",
              "      <th>2</th>\n",
              "      <td>3</td>\n",
              "      <td>Grumpier Old Men</td>\n",
              "      <td>Comedy|Romance</td>\n",
              "    </tr>\n",
              "    <tr>\n",
              "      <th>3</th>\n",
              "      <td>4</td>\n",
              "      <td>Waiting to Exhale</td>\n",
              "      <td>Comedy|Drama|Romance</td>\n",
              "    </tr>\n",
              "    <tr>\n",
              "      <th>4</th>\n",
              "      <td>5</td>\n",
              "      <td>Father of the Bride Part II</td>\n",
              "      <td>Comedy</td>\n",
              "    </tr>\n",
              "  </tbody>\n",
              "</table>\n",
              "</div>\n",
              "      <button class=\"colab-df-convert\" onclick=\"convertToInteractive('df-4f77aa75-5773-47b5-8987-5378a958d480')\"\n",
              "              title=\"Convert this dataframe to an interactive table.\"\n",
              "              style=\"display:none;\">\n",
              "        \n",
              "  <svg xmlns=\"http://www.w3.org/2000/svg\" height=\"24px\"viewBox=\"0 0 24 24\"\n",
              "       width=\"24px\">\n",
              "    <path d=\"M0 0h24v24H0V0z\" fill=\"none\"/>\n",
              "    <path d=\"M18.56 5.44l.94 2.06.94-2.06 2.06-.94-2.06-.94-.94-2.06-.94 2.06-2.06.94zm-11 1L8.5 8.5l.94-2.06 2.06-.94-2.06-.94L8.5 2.5l-.94 2.06-2.06.94zm10 10l.94 2.06.94-2.06 2.06-.94-2.06-.94-.94-2.06-.94 2.06-2.06.94z\"/><path d=\"M17.41 7.96l-1.37-1.37c-.4-.4-.92-.59-1.43-.59-.52 0-1.04.2-1.43.59L10.3 9.45l-7.72 7.72c-.78.78-.78 2.05 0 2.83L4 21.41c.39.39.9.59 1.41.59.51 0 1.02-.2 1.41-.59l7.78-7.78 2.81-2.81c.8-.78.8-2.07 0-2.86zM5.41 20L4 18.59l7.72-7.72 1.47 1.35L5.41 20z\"/>\n",
              "  </svg>\n",
              "      </button>\n",
              "      \n",
              "  <style>\n",
              "    .colab-df-container {\n",
              "      display:flex;\n",
              "      flex-wrap:wrap;\n",
              "      gap: 12px;\n",
              "    }\n",
              "\n",
              "    .colab-df-convert {\n",
              "      background-color: #E8F0FE;\n",
              "      border: none;\n",
              "      border-radius: 50%;\n",
              "      cursor: pointer;\n",
              "      display: none;\n",
              "      fill: #1967D2;\n",
              "      height: 32px;\n",
              "      padding: 0 0 0 0;\n",
              "      width: 32px;\n",
              "    }\n",
              "\n",
              "    .colab-df-convert:hover {\n",
              "      background-color: #E2EBFA;\n",
              "      box-shadow: 0px 1px 2px rgba(60, 64, 67, 0.3), 0px 1px 3px 1px rgba(60, 64, 67, 0.15);\n",
              "      fill: #174EA6;\n",
              "    }\n",
              "\n",
              "    [theme=dark] .colab-df-convert {\n",
              "      background-color: #3B4455;\n",
              "      fill: #D2E3FC;\n",
              "    }\n",
              "\n",
              "    [theme=dark] .colab-df-convert:hover {\n",
              "      background-color: #434B5C;\n",
              "      box-shadow: 0px 1px 3px 1px rgba(0, 0, 0, 0.15);\n",
              "      filter: drop-shadow(0px 1px 2px rgba(0, 0, 0, 0.3));\n",
              "      fill: #FFFFFF;\n",
              "    }\n",
              "  </style>\n",
              "\n",
              "      <script>\n",
              "        const buttonEl =\n",
              "          document.querySelector('#df-4f77aa75-5773-47b5-8987-5378a958d480 button.colab-df-convert');\n",
              "        buttonEl.style.display =\n",
              "          google.colab.kernel.accessAllowed ? 'block' : 'none';\n",
              "\n",
              "        async function convertToInteractive(key) {\n",
              "          const element = document.querySelector('#df-4f77aa75-5773-47b5-8987-5378a958d480');\n",
              "          const dataTable =\n",
              "            await google.colab.kernel.invokeFunction('convertToInteractive',\n",
              "                                                     [key], {});\n",
              "          if (!dataTable) return;\n",
              "\n",
              "          const docLinkHtml = 'Like what you see? Visit the ' +\n",
              "            '<a target=\"_blank\" href=https://colab.research.google.com/notebooks/data_table.ipynb>data table notebook</a>'\n",
              "            + ' to learn more about interactive tables.';\n",
              "          element.innerHTML = '';\n",
              "          dataTable['output_type'] = 'display_data';\n",
              "          await google.colab.output.renderOutput(dataTable, element);\n",
              "          const docLink = document.createElement('div');\n",
              "          docLink.innerHTML = docLinkHtml;\n",
              "          element.appendChild(docLink);\n",
              "        }\n",
              "      </script>\n",
              "    </div>\n",
              "  </div>\n",
              "  "
            ]
          },
          "metadata": {},
          "execution_count": 146
        }
      ]
    },
    {
      "cell_type": "code",
      "source": [
        "movies_pd.info()"
      ],
      "metadata": {
        "colab": {
          "base_uri": "https://localhost:8080/"
        },
        "id": "Z74j-ldhxhNx",
        "outputId": "a8310f55-9c97-4a14-f4e7-cd8e2d0b803e"
      },
      "execution_count": null,
      "outputs": [
        {
          "output_type": "stream",
          "name": "stdout",
          "text": [
            "<class 'pandas.core.frame.DataFrame'>\n",
            "RangeIndex: 9742 entries, 0 to 9741\n",
            "Data columns (total 3 columns):\n",
            " #   Column   Non-Null Count  Dtype \n",
            "---  ------   --------------  ----- \n",
            " 0   movieId  9742 non-null   object\n",
            " 1   title    9742 non-null   object\n",
            " 2   genres   9742 non-null   object\n",
            "dtypes: object(3)\n",
            "memory usage: 228.5+ KB\n"
          ]
        }
      ]
    },
    {
      "cell_type": "code",
      "source": [
        "movies_pd = movies_pd.astype({'movieId': 'int32'})\n",
        "print(movies_pd.dtypes)"
      ],
      "metadata": {
        "colab": {
          "base_uri": "https://localhost:8080/"
        },
        "id": "9Hw2VgGoyfAd",
        "outputId": "507afdd4-b994-461f-a24a-170551e6d3fe"
      },
      "execution_count": null,
      "outputs": [
        {
          "output_type": "stream",
          "name": "stdout",
          "text": [
            "movieId     int32\n",
            "title      object\n",
            "genres     object\n",
            "dtype: object\n"
          ]
        }
      ]
    },
    {
      "cell_type": "code",
      "source": [
        "## merging with movies dataframe to get movie title and genre of recommedated movies\n",
        "recommendations = recs_df.merge(movies_pd, how='left', left_on=\"MovieID\", right_on=\"movieId\")"
      ],
      "metadata": {
        "id": "vMyUIKsMwjop"
      },
      "execution_count": null,
      "outputs": []
    },
    {
      "cell_type": "code",
      "source": [
        "recommendations[recommendations[\"UserID\"]==1]\n"
      ],
      "metadata": {
        "colab": {
          "base_uri": "https://localhost:8080/",
          "height": 363
        },
        "id": "YXQIPslLzl2z",
        "outputId": "061e6b58-5bce-423b-87d5-af003c414beb"
      },
      "execution_count": null,
      "outputs": [
        {
          "output_type": "execute_result",
          "data": {
            "text/plain": [
              "   MovieID    Rating  UserID  movieId  \\\n",
              "0     6975  7.328044       1     6975   \n",
              "1   158872  6.974326       1   158872   \n",
              "2    73569  6.598722       1    73569   \n",
              "3     7842  7.041638       1     7842   \n",
              "4     7982  6.588324       1     7982   \n",
              "5       82  7.125210       1       82   \n",
              "6     4794  6.522273       1     4794   \n",
              "7    86347  7.271550       1    86347   \n",
              "8     4902  6.524091       1     4902   \n",
              "9     2290  6.900546       1     2290   \n",
              "\n",
              "                                             title  \\\n",
              "0                                      Funny Games   \n",
              "1                                    Sausage Party   \n",
              "2                Project A 2 ('A' gai wak juk jap)   \n",
              "3                                             Dune   \n",
              "4      Tale of Two Sisters, A (Janghwa, Hongryeon)   \n",
              "5                         Antonia's Line (Antonia)   \n",
              "6                                            Opera   \n",
              "7                            Louis C.K.: Chewed Up   \n",
              "8  Devil's Backbone, The (Espinazo del diablo, El)   \n",
              "9                                Stardust Memories   \n",
              "\n",
              "                              genres  \n",
              "0              Drama|Horror|Thriller  \n",
              "1                   Animation|Comedy  \n",
              "2                Action|Comedy|Crime  \n",
              "3               Drama|Fantasy|Sci-Fi  \n",
              "4      Drama|Horror|Mystery|Thriller  \n",
              "5                       Comedy|Drama  \n",
              "6               Crime|Horror|Mystery  \n",
              "7                             Comedy  \n",
              "8  Drama|Fantasy|Horror|Thriller|War  \n",
              "9                       Comedy|Drama  "
            ],
            "text/html": [
              "\n",
              "  <div id=\"df-b94c1755-ca66-4280-84ce-1ef94c42a750\">\n",
              "    <div class=\"colab-df-container\">\n",
              "      <div>\n",
              "<style scoped>\n",
              "    .dataframe tbody tr th:only-of-type {\n",
              "        vertical-align: middle;\n",
              "    }\n",
              "\n",
              "    .dataframe tbody tr th {\n",
              "        vertical-align: top;\n",
              "    }\n",
              "\n",
              "    .dataframe thead th {\n",
              "        text-align: right;\n",
              "    }\n",
              "</style>\n",
              "<table border=\"1\" class=\"dataframe\">\n",
              "  <thead>\n",
              "    <tr style=\"text-align: right;\">\n",
              "      <th></th>\n",
              "      <th>MovieID</th>\n",
              "      <th>Rating</th>\n",
              "      <th>UserID</th>\n",
              "      <th>movieId</th>\n",
              "      <th>title</th>\n",
              "      <th>genres</th>\n",
              "    </tr>\n",
              "  </thead>\n",
              "  <tbody>\n",
              "    <tr>\n",
              "      <th>0</th>\n",
              "      <td>6975</td>\n",
              "      <td>7.328044</td>\n",
              "      <td>1</td>\n",
              "      <td>6975</td>\n",
              "      <td>Funny Games</td>\n",
              "      <td>Drama|Horror|Thriller</td>\n",
              "    </tr>\n",
              "    <tr>\n",
              "      <th>1</th>\n",
              "      <td>158872</td>\n",
              "      <td>6.974326</td>\n",
              "      <td>1</td>\n",
              "      <td>158872</td>\n",
              "      <td>Sausage Party</td>\n",
              "      <td>Animation|Comedy</td>\n",
              "    </tr>\n",
              "    <tr>\n",
              "      <th>2</th>\n",
              "      <td>73569</td>\n",
              "      <td>6.598722</td>\n",
              "      <td>1</td>\n",
              "      <td>73569</td>\n",
              "      <td>Project A 2 ('A' gai wak juk jap)</td>\n",
              "      <td>Action|Comedy|Crime</td>\n",
              "    </tr>\n",
              "    <tr>\n",
              "      <th>3</th>\n",
              "      <td>7842</td>\n",
              "      <td>7.041638</td>\n",
              "      <td>1</td>\n",
              "      <td>7842</td>\n",
              "      <td>Dune</td>\n",
              "      <td>Drama|Fantasy|Sci-Fi</td>\n",
              "    </tr>\n",
              "    <tr>\n",
              "      <th>4</th>\n",
              "      <td>7982</td>\n",
              "      <td>6.588324</td>\n",
              "      <td>1</td>\n",
              "      <td>7982</td>\n",
              "      <td>Tale of Two Sisters, A (Janghwa, Hongryeon)</td>\n",
              "      <td>Drama|Horror|Mystery|Thriller</td>\n",
              "    </tr>\n",
              "    <tr>\n",
              "      <th>5</th>\n",
              "      <td>82</td>\n",
              "      <td>7.125210</td>\n",
              "      <td>1</td>\n",
              "      <td>82</td>\n",
              "      <td>Antonia's Line (Antonia)</td>\n",
              "      <td>Comedy|Drama</td>\n",
              "    </tr>\n",
              "    <tr>\n",
              "      <th>6</th>\n",
              "      <td>4794</td>\n",
              "      <td>6.522273</td>\n",
              "      <td>1</td>\n",
              "      <td>4794</td>\n",
              "      <td>Opera</td>\n",
              "      <td>Crime|Horror|Mystery</td>\n",
              "    </tr>\n",
              "    <tr>\n",
              "      <th>7</th>\n",
              "      <td>86347</td>\n",
              "      <td>7.271550</td>\n",
              "      <td>1</td>\n",
              "      <td>86347</td>\n",
              "      <td>Louis C.K.: Chewed Up</td>\n",
              "      <td>Comedy</td>\n",
              "    </tr>\n",
              "    <tr>\n",
              "      <th>8</th>\n",
              "      <td>4902</td>\n",
              "      <td>6.524091</td>\n",
              "      <td>1</td>\n",
              "      <td>4902</td>\n",
              "      <td>Devil's Backbone, The (Espinazo del diablo, El)</td>\n",
              "      <td>Drama|Fantasy|Horror|Thriller|War</td>\n",
              "    </tr>\n",
              "    <tr>\n",
              "      <th>9</th>\n",
              "      <td>2290</td>\n",
              "      <td>6.900546</td>\n",
              "      <td>1</td>\n",
              "      <td>2290</td>\n",
              "      <td>Stardust Memories</td>\n",
              "      <td>Comedy|Drama</td>\n",
              "    </tr>\n",
              "  </tbody>\n",
              "</table>\n",
              "</div>\n",
              "      <button class=\"colab-df-convert\" onclick=\"convertToInteractive('df-b94c1755-ca66-4280-84ce-1ef94c42a750')\"\n",
              "              title=\"Convert this dataframe to an interactive table.\"\n",
              "              style=\"display:none;\">\n",
              "        \n",
              "  <svg xmlns=\"http://www.w3.org/2000/svg\" height=\"24px\"viewBox=\"0 0 24 24\"\n",
              "       width=\"24px\">\n",
              "    <path d=\"M0 0h24v24H0V0z\" fill=\"none\"/>\n",
              "    <path d=\"M18.56 5.44l.94 2.06.94-2.06 2.06-.94-2.06-.94-.94-2.06-.94 2.06-2.06.94zm-11 1L8.5 8.5l.94-2.06 2.06-.94-2.06-.94L8.5 2.5l-.94 2.06-2.06.94zm10 10l.94 2.06.94-2.06 2.06-.94-2.06-.94-.94-2.06-.94 2.06-2.06.94z\"/><path d=\"M17.41 7.96l-1.37-1.37c-.4-.4-.92-.59-1.43-.59-.52 0-1.04.2-1.43.59L10.3 9.45l-7.72 7.72c-.78.78-.78 2.05 0 2.83L4 21.41c.39.39.9.59 1.41.59.51 0 1.02-.2 1.41-.59l7.78-7.78 2.81-2.81c.8-.78.8-2.07 0-2.86zM5.41 20L4 18.59l7.72-7.72 1.47 1.35L5.41 20z\"/>\n",
              "  </svg>\n",
              "      </button>\n",
              "      \n",
              "  <style>\n",
              "    .colab-df-container {\n",
              "      display:flex;\n",
              "      flex-wrap:wrap;\n",
              "      gap: 12px;\n",
              "    }\n",
              "\n",
              "    .colab-df-convert {\n",
              "      background-color: #E8F0FE;\n",
              "      border: none;\n",
              "      border-radius: 50%;\n",
              "      cursor: pointer;\n",
              "      display: none;\n",
              "      fill: #1967D2;\n",
              "      height: 32px;\n",
              "      padding: 0 0 0 0;\n",
              "      width: 32px;\n",
              "    }\n",
              "\n",
              "    .colab-df-convert:hover {\n",
              "      background-color: #E2EBFA;\n",
              "      box-shadow: 0px 1px 2px rgba(60, 64, 67, 0.3), 0px 1px 3px 1px rgba(60, 64, 67, 0.15);\n",
              "      fill: #174EA6;\n",
              "    }\n",
              "\n",
              "    [theme=dark] .colab-df-convert {\n",
              "      background-color: #3B4455;\n",
              "      fill: #D2E3FC;\n",
              "    }\n",
              "\n",
              "    [theme=dark] .colab-df-convert:hover {\n",
              "      background-color: #434B5C;\n",
              "      box-shadow: 0px 1px 3px 1px rgba(0, 0, 0, 0.15);\n",
              "      filter: drop-shadow(0px 1px 2px rgba(0, 0, 0, 0.3));\n",
              "      fill: #FFFFFF;\n",
              "    }\n",
              "  </style>\n",
              "\n",
              "      <script>\n",
              "        const buttonEl =\n",
              "          document.querySelector('#df-b94c1755-ca66-4280-84ce-1ef94c42a750 button.colab-df-convert');\n",
              "        buttonEl.style.display =\n",
              "          google.colab.kernel.accessAllowed ? 'block' : 'none';\n",
              "\n",
              "        async function convertToInteractive(key) {\n",
              "          const element = document.querySelector('#df-b94c1755-ca66-4280-84ce-1ef94c42a750');\n",
              "          const dataTable =\n",
              "            await google.colab.kernel.invokeFunction('convertToInteractive',\n",
              "                                                     [key], {});\n",
              "          if (!dataTable) return;\n",
              "\n",
              "          const docLinkHtml = 'Like what you see? Visit the ' +\n",
              "            '<a target=\"_blank\" href=https://colab.research.google.com/notebooks/data_table.ipynb>data table notebook</a>'\n",
              "            + ' to learn more about interactive tables.';\n",
              "          element.innerHTML = '';\n",
              "          dataTable['output_type'] = 'display_data';\n",
              "          await google.colab.output.renderOutput(dataTable, element);\n",
              "          const docLink = document.createElement('div');\n",
              "          docLink.innerHTML = docLinkHtml;\n",
              "          element.appendChild(docLink);\n",
              "        }\n",
              "      </script>\n",
              "    </div>\n",
              "  </div>\n",
              "  "
            ]
          },
          "metadata": {},
          "execution_count": 154
        }
      ]
    },
    {
      "cell_type": "code",
      "source": [
        "### checking the genre of recommendated movies with genre of user's watched movies\n",
        "movie_ratings_df = movie_ratings.toPandas()\n",
        "movie_ratings_df = movie_ratings_df[['movieId', 'userId', 'rating',  'title', 'genres']]"
      ],
      "metadata": {
        "id": "oBgOQuCp0O2W"
      },
      "execution_count": null,
      "outputs": []
    },
    {
      "cell_type": "code",
      "source": [
        "movie_ratings_df.head()"
      ],
      "metadata": {
        "colab": {
          "base_uri": "https://localhost:8080/",
          "height": 206
        },
        "id": "f8u3wGTd1eTw",
        "outputId": "51ea314b-a84f-43f7-a89d-817e15c5d976"
      },
      "execution_count": null,
      "outputs": [
        {
          "output_type": "execute_result",
          "data": {
            "text/plain": [
              "  movieId userId rating                        title  \\\n",
              "0       1      1      4             Toy Story (1995)   \n",
              "1       3      1      4      Grumpier Old Men (1995)   \n",
              "2       6      1      4                  Heat (1995)   \n",
              "3      47      1      5  Seven (a.k.a. Se7en) (1995)   \n",
              "4      50      1      5   Usual Suspects, The (1995)   \n",
              "\n",
              "                                        genres  \n",
              "0  Adventure|Animation|Children|Comedy|Fantasy  \n",
              "1                               Comedy|Romance  \n",
              "2                        Action|Crime|Thriller  \n",
              "3                             Mystery|Thriller  \n",
              "4                       Crime|Mystery|Thriller  "
            ],
            "text/html": [
              "\n",
              "  <div id=\"df-a46856e0-83a3-42b9-952c-caef9d920fa0\">\n",
              "    <div class=\"colab-df-container\">\n",
              "      <div>\n",
              "<style scoped>\n",
              "    .dataframe tbody tr th:only-of-type {\n",
              "        vertical-align: middle;\n",
              "    }\n",
              "\n",
              "    .dataframe tbody tr th {\n",
              "        vertical-align: top;\n",
              "    }\n",
              "\n",
              "    .dataframe thead th {\n",
              "        text-align: right;\n",
              "    }\n",
              "</style>\n",
              "<table border=\"1\" class=\"dataframe\">\n",
              "  <thead>\n",
              "    <tr style=\"text-align: right;\">\n",
              "      <th></th>\n",
              "      <th>movieId</th>\n",
              "      <th>userId</th>\n",
              "      <th>rating</th>\n",
              "      <th>title</th>\n",
              "      <th>genres</th>\n",
              "    </tr>\n",
              "  </thead>\n",
              "  <tbody>\n",
              "    <tr>\n",
              "      <th>0</th>\n",
              "      <td>1</td>\n",
              "      <td>1</td>\n",
              "      <td>4</td>\n",
              "      <td>Toy Story (1995)</td>\n",
              "      <td>Adventure|Animation|Children|Comedy|Fantasy</td>\n",
              "    </tr>\n",
              "    <tr>\n",
              "      <th>1</th>\n",
              "      <td>3</td>\n",
              "      <td>1</td>\n",
              "      <td>4</td>\n",
              "      <td>Grumpier Old Men (1995)</td>\n",
              "      <td>Comedy|Romance</td>\n",
              "    </tr>\n",
              "    <tr>\n",
              "      <th>2</th>\n",
              "      <td>6</td>\n",
              "      <td>1</td>\n",
              "      <td>4</td>\n",
              "      <td>Heat (1995)</td>\n",
              "      <td>Action|Crime|Thriller</td>\n",
              "    </tr>\n",
              "    <tr>\n",
              "      <th>3</th>\n",
              "      <td>47</td>\n",
              "      <td>1</td>\n",
              "      <td>5</td>\n",
              "      <td>Seven (a.k.a. Se7en) (1995)</td>\n",
              "      <td>Mystery|Thriller</td>\n",
              "    </tr>\n",
              "    <tr>\n",
              "      <th>4</th>\n",
              "      <td>50</td>\n",
              "      <td>1</td>\n",
              "      <td>5</td>\n",
              "      <td>Usual Suspects, The (1995)</td>\n",
              "      <td>Crime|Mystery|Thriller</td>\n",
              "    </tr>\n",
              "  </tbody>\n",
              "</table>\n",
              "</div>\n",
              "      <button class=\"colab-df-convert\" onclick=\"convertToInteractive('df-a46856e0-83a3-42b9-952c-caef9d920fa0')\"\n",
              "              title=\"Convert this dataframe to an interactive table.\"\n",
              "              style=\"display:none;\">\n",
              "        \n",
              "  <svg xmlns=\"http://www.w3.org/2000/svg\" height=\"24px\"viewBox=\"0 0 24 24\"\n",
              "       width=\"24px\">\n",
              "    <path d=\"M0 0h24v24H0V0z\" fill=\"none\"/>\n",
              "    <path d=\"M18.56 5.44l.94 2.06.94-2.06 2.06-.94-2.06-.94-.94-2.06-.94 2.06-2.06.94zm-11 1L8.5 8.5l.94-2.06 2.06-.94-2.06-.94L8.5 2.5l-.94 2.06-2.06.94zm10 10l.94 2.06.94-2.06 2.06-.94-2.06-.94-.94-2.06-.94 2.06-2.06.94z\"/><path d=\"M17.41 7.96l-1.37-1.37c-.4-.4-.92-.59-1.43-.59-.52 0-1.04.2-1.43.59L10.3 9.45l-7.72 7.72c-.78.78-.78 2.05 0 2.83L4 21.41c.39.39.9.59 1.41.59.51 0 1.02-.2 1.41-.59l7.78-7.78 2.81-2.81c.8-.78.8-2.07 0-2.86zM5.41 20L4 18.59l7.72-7.72 1.47 1.35L5.41 20z\"/>\n",
              "  </svg>\n",
              "      </button>\n",
              "      \n",
              "  <style>\n",
              "    .colab-df-container {\n",
              "      display:flex;\n",
              "      flex-wrap:wrap;\n",
              "      gap: 12px;\n",
              "    }\n",
              "\n",
              "    .colab-df-convert {\n",
              "      background-color: #E8F0FE;\n",
              "      border: none;\n",
              "      border-radius: 50%;\n",
              "      cursor: pointer;\n",
              "      display: none;\n",
              "      fill: #1967D2;\n",
              "      height: 32px;\n",
              "      padding: 0 0 0 0;\n",
              "      width: 32px;\n",
              "    }\n",
              "\n",
              "    .colab-df-convert:hover {\n",
              "      background-color: #E2EBFA;\n",
              "      box-shadow: 0px 1px 2px rgba(60, 64, 67, 0.3), 0px 1px 3px 1px rgba(60, 64, 67, 0.15);\n",
              "      fill: #174EA6;\n",
              "    }\n",
              "\n",
              "    [theme=dark] .colab-df-convert {\n",
              "      background-color: #3B4455;\n",
              "      fill: #D2E3FC;\n",
              "    }\n",
              "\n",
              "    [theme=dark] .colab-df-convert:hover {\n",
              "      background-color: #434B5C;\n",
              "      box-shadow: 0px 1px 3px 1px rgba(0, 0, 0, 0.15);\n",
              "      filter: drop-shadow(0px 1px 2px rgba(0, 0, 0, 0.3));\n",
              "      fill: #FFFFFF;\n",
              "    }\n",
              "  </style>\n",
              "\n",
              "      <script>\n",
              "        const buttonEl =\n",
              "          document.querySelector('#df-a46856e0-83a3-42b9-952c-caef9d920fa0 button.colab-df-convert');\n",
              "        buttonEl.style.display =\n",
              "          google.colab.kernel.accessAllowed ? 'block' : 'none';\n",
              "\n",
              "        async function convertToInteractive(key) {\n",
              "          const element = document.querySelector('#df-a46856e0-83a3-42b9-952c-caef9d920fa0');\n",
              "          const dataTable =\n",
              "            await google.colab.kernel.invokeFunction('convertToInteractive',\n",
              "                                                     [key], {});\n",
              "          if (!dataTable) return;\n",
              "\n",
              "          const docLinkHtml = 'Like what you see? Visit the ' +\n",
              "            '<a target=\"_blank\" href=https://colab.research.google.com/notebooks/data_table.ipynb>data table notebook</a>'\n",
              "            + ' to learn more about interactive tables.';\n",
              "          element.innerHTML = '';\n",
              "          dataTable['output_type'] = 'display_data';\n",
              "          await google.colab.output.renderOutput(dataTable, element);\n",
              "          const docLink = document.createElement('div');\n",
              "          docLink.innerHTML = docLinkHtml;\n",
              "          element.appendChild(docLink);\n",
              "        }\n",
              "      </script>\n",
              "    </div>\n",
              "  </div>\n",
              "  "
            ]
          },
          "metadata": {},
          "execution_count": 158
        }
      ]
    },
    {
      "cell_type": "code",
      "source": [
        "movie_ratings_df = movie_ratings_df.astype({'movieId': 'int32', 'userId': 'int32'})\n",
        "movie_ratings_df.info()\n"
      ],
      "metadata": {
        "colab": {
          "base_uri": "https://localhost:8080/"
        },
        "id": "UaWtMSgb1i97",
        "outputId": "db6a4956-1307-438a-d045-75cfb19e3e19"
      },
      "execution_count": null,
      "outputs": [
        {
          "output_type": "stream",
          "name": "stdout",
          "text": [
            "<class 'pandas.core.frame.DataFrame'>\n",
            "RangeIndex: 100836 entries, 0 to 100835\n",
            "Data columns (total 5 columns):\n",
            " #   Column   Non-Null Count   Dtype \n",
            "---  ------   --------------   ----- \n",
            " 0   movieId  100836 non-null  int32 \n",
            " 1   userId   100836 non-null  int32 \n",
            " 2   rating   100836 non-null  object\n",
            " 3   title    100836 non-null  object\n",
            " 4   genres   100836 non-null  object\n",
            "dtypes: int32(2), object(3)\n",
            "memory usage: 3.1+ MB\n"
          ]
        }
      ]
    },
    {
      "cell_type": "code",
      "source": [
        "movie_ratings_df[movie_ratings_df['userId']==1]"
      ],
      "metadata": {
        "colab": {
          "base_uri": "https://localhost:8080/",
          "height": 424
        },
        "id": "q9HKe7uw1NNP",
        "outputId": "f2628475-4cef-4ac7-8fdf-5dc071eb9a08"
      },
      "execution_count": null,
      "outputs": [
        {
          "output_type": "execute_result",
          "data": {
            "text/plain": [
              "     movieId  userId rating                           title  \\\n",
              "0          1       1      4                Toy Story (1995)   \n",
              "1          3       1      4         Grumpier Old Men (1995)   \n",
              "2          6       1      4                     Heat (1995)   \n",
              "3         47       1      5     Seven (a.k.a. Se7en) (1995)   \n",
              "4         50       1      5      Usual Suspects, The (1995)   \n",
              "..       ...     ...    ...                             ...   \n",
              "227     3744       1      4                    Shaft (2000)   \n",
              "228     3793       1      5                    X-Men (2000)   \n",
              "229     3809       1      4          What About Bob? (1991)   \n",
              "230     4006       1      4  Transformers: The Movie (1986)   \n",
              "231     5060       1      5    M*A*S*H (a.k.a. MASH) (1970)   \n",
              "\n",
              "                                          genres  \n",
              "0    Adventure|Animation|Children|Comedy|Fantasy  \n",
              "1                                 Comedy|Romance  \n",
              "2                          Action|Crime|Thriller  \n",
              "3                               Mystery|Thriller  \n",
              "4                         Crime|Mystery|Thriller  \n",
              "..                                           ...  \n",
              "227                        Action|Crime|Thriller  \n",
              "228                      Action|Adventure|Sci-Fi  \n",
              "229                                       Comedy  \n",
              "230          Adventure|Animation|Children|Sci-Fi  \n",
              "231                             Comedy|Drama|War  \n",
              "\n",
              "[232 rows x 5 columns]"
            ],
            "text/html": [
              "\n",
              "  <div id=\"df-eceb05f8-2bc5-4dd7-9e3a-29bba7975e98\">\n",
              "    <div class=\"colab-df-container\">\n",
              "      <div>\n",
              "<style scoped>\n",
              "    .dataframe tbody tr th:only-of-type {\n",
              "        vertical-align: middle;\n",
              "    }\n",
              "\n",
              "    .dataframe tbody tr th {\n",
              "        vertical-align: top;\n",
              "    }\n",
              "\n",
              "    .dataframe thead th {\n",
              "        text-align: right;\n",
              "    }\n",
              "</style>\n",
              "<table border=\"1\" class=\"dataframe\">\n",
              "  <thead>\n",
              "    <tr style=\"text-align: right;\">\n",
              "      <th></th>\n",
              "      <th>movieId</th>\n",
              "      <th>userId</th>\n",
              "      <th>rating</th>\n",
              "      <th>title</th>\n",
              "      <th>genres</th>\n",
              "    </tr>\n",
              "  </thead>\n",
              "  <tbody>\n",
              "    <tr>\n",
              "      <th>0</th>\n",
              "      <td>1</td>\n",
              "      <td>1</td>\n",
              "      <td>4</td>\n",
              "      <td>Toy Story (1995)</td>\n",
              "      <td>Adventure|Animation|Children|Comedy|Fantasy</td>\n",
              "    </tr>\n",
              "    <tr>\n",
              "      <th>1</th>\n",
              "      <td>3</td>\n",
              "      <td>1</td>\n",
              "      <td>4</td>\n",
              "      <td>Grumpier Old Men (1995)</td>\n",
              "      <td>Comedy|Romance</td>\n",
              "    </tr>\n",
              "    <tr>\n",
              "      <th>2</th>\n",
              "      <td>6</td>\n",
              "      <td>1</td>\n",
              "      <td>4</td>\n",
              "      <td>Heat (1995)</td>\n",
              "      <td>Action|Crime|Thriller</td>\n",
              "    </tr>\n",
              "    <tr>\n",
              "      <th>3</th>\n",
              "      <td>47</td>\n",
              "      <td>1</td>\n",
              "      <td>5</td>\n",
              "      <td>Seven (a.k.a. Se7en) (1995)</td>\n",
              "      <td>Mystery|Thriller</td>\n",
              "    </tr>\n",
              "    <tr>\n",
              "      <th>4</th>\n",
              "      <td>50</td>\n",
              "      <td>1</td>\n",
              "      <td>5</td>\n",
              "      <td>Usual Suspects, The (1995)</td>\n",
              "      <td>Crime|Mystery|Thriller</td>\n",
              "    </tr>\n",
              "    <tr>\n",
              "      <th>...</th>\n",
              "      <td>...</td>\n",
              "      <td>...</td>\n",
              "      <td>...</td>\n",
              "      <td>...</td>\n",
              "      <td>...</td>\n",
              "    </tr>\n",
              "    <tr>\n",
              "      <th>227</th>\n",
              "      <td>3744</td>\n",
              "      <td>1</td>\n",
              "      <td>4</td>\n",
              "      <td>Shaft (2000)</td>\n",
              "      <td>Action|Crime|Thriller</td>\n",
              "    </tr>\n",
              "    <tr>\n",
              "      <th>228</th>\n",
              "      <td>3793</td>\n",
              "      <td>1</td>\n",
              "      <td>5</td>\n",
              "      <td>X-Men (2000)</td>\n",
              "      <td>Action|Adventure|Sci-Fi</td>\n",
              "    </tr>\n",
              "    <tr>\n",
              "      <th>229</th>\n",
              "      <td>3809</td>\n",
              "      <td>1</td>\n",
              "      <td>4</td>\n",
              "      <td>What About Bob? (1991)</td>\n",
              "      <td>Comedy</td>\n",
              "    </tr>\n",
              "    <tr>\n",
              "      <th>230</th>\n",
              "      <td>4006</td>\n",
              "      <td>1</td>\n",
              "      <td>4</td>\n",
              "      <td>Transformers: The Movie (1986)</td>\n",
              "      <td>Adventure|Animation|Children|Sci-Fi</td>\n",
              "    </tr>\n",
              "    <tr>\n",
              "      <th>231</th>\n",
              "      <td>5060</td>\n",
              "      <td>1</td>\n",
              "      <td>5</td>\n",
              "      <td>M*A*S*H (a.k.a. MASH) (1970)</td>\n",
              "      <td>Comedy|Drama|War</td>\n",
              "    </tr>\n",
              "  </tbody>\n",
              "</table>\n",
              "<p>232 rows × 5 columns</p>\n",
              "</div>\n",
              "      <button class=\"colab-df-convert\" onclick=\"convertToInteractive('df-eceb05f8-2bc5-4dd7-9e3a-29bba7975e98')\"\n",
              "              title=\"Convert this dataframe to an interactive table.\"\n",
              "              style=\"display:none;\">\n",
              "        \n",
              "  <svg xmlns=\"http://www.w3.org/2000/svg\" height=\"24px\"viewBox=\"0 0 24 24\"\n",
              "       width=\"24px\">\n",
              "    <path d=\"M0 0h24v24H0V0z\" fill=\"none\"/>\n",
              "    <path d=\"M18.56 5.44l.94 2.06.94-2.06 2.06-.94-2.06-.94-.94-2.06-.94 2.06-2.06.94zm-11 1L8.5 8.5l.94-2.06 2.06-.94-2.06-.94L8.5 2.5l-.94 2.06-2.06.94zm10 10l.94 2.06.94-2.06 2.06-.94-2.06-.94-.94-2.06-.94 2.06-2.06.94z\"/><path d=\"M17.41 7.96l-1.37-1.37c-.4-.4-.92-.59-1.43-.59-.52 0-1.04.2-1.43.59L10.3 9.45l-7.72 7.72c-.78.78-.78 2.05 0 2.83L4 21.41c.39.39.9.59 1.41.59.51 0 1.02-.2 1.41-.59l7.78-7.78 2.81-2.81c.8-.78.8-2.07 0-2.86zM5.41 20L4 18.59l7.72-7.72 1.47 1.35L5.41 20z\"/>\n",
              "  </svg>\n",
              "      </button>\n",
              "      \n",
              "  <style>\n",
              "    .colab-df-container {\n",
              "      display:flex;\n",
              "      flex-wrap:wrap;\n",
              "      gap: 12px;\n",
              "    }\n",
              "\n",
              "    .colab-df-convert {\n",
              "      background-color: #E8F0FE;\n",
              "      border: none;\n",
              "      border-radius: 50%;\n",
              "      cursor: pointer;\n",
              "      display: none;\n",
              "      fill: #1967D2;\n",
              "      height: 32px;\n",
              "      padding: 0 0 0 0;\n",
              "      width: 32px;\n",
              "    }\n",
              "\n",
              "    .colab-df-convert:hover {\n",
              "      background-color: #E2EBFA;\n",
              "      box-shadow: 0px 1px 2px rgba(60, 64, 67, 0.3), 0px 1px 3px 1px rgba(60, 64, 67, 0.15);\n",
              "      fill: #174EA6;\n",
              "    }\n",
              "\n",
              "    [theme=dark] .colab-df-convert {\n",
              "      background-color: #3B4455;\n",
              "      fill: #D2E3FC;\n",
              "    }\n",
              "\n",
              "    [theme=dark] .colab-df-convert:hover {\n",
              "      background-color: #434B5C;\n",
              "      box-shadow: 0px 1px 3px 1px rgba(0, 0, 0, 0.15);\n",
              "      filter: drop-shadow(0px 1px 2px rgba(0, 0, 0, 0.3));\n",
              "      fill: #FFFFFF;\n",
              "    }\n",
              "  </style>\n",
              "\n",
              "      <script>\n",
              "        const buttonEl =\n",
              "          document.querySelector('#df-eceb05f8-2bc5-4dd7-9e3a-29bba7975e98 button.colab-df-convert');\n",
              "        buttonEl.style.display =\n",
              "          google.colab.kernel.accessAllowed ? 'block' : 'none';\n",
              "\n",
              "        async function convertToInteractive(key) {\n",
              "          const element = document.querySelector('#df-eceb05f8-2bc5-4dd7-9e3a-29bba7975e98');\n",
              "          const dataTable =\n",
              "            await google.colab.kernel.invokeFunction('convertToInteractive',\n",
              "                                                     [key], {});\n",
              "          if (!dataTable) return;\n",
              "\n",
              "          const docLinkHtml = 'Like what you see? Visit the ' +\n",
              "            '<a target=\"_blank\" href=https://colab.research.google.com/notebooks/data_table.ipynb>data table notebook</a>'\n",
              "            + ' to learn more about interactive tables.';\n",
              "          element.innerHTML = '';\n",
              "          dataTable['output_type'] = 'display_data';\n",
              "          await google.colab.output.renderOutput(dataTable, element);\n",
              "          const docLink = document.createElement('div');\n",
              "          docLink.innerHTML = docLinkHtml;\n",
              "          element.appendChild(docLink);\n",
              "        }\n",
              "      </script>\n",
              "    </div>\n",
              "  </div>\n",
              "  "
            ]
          },
          "metadata": {},
          "execution_count": 162
        }
      ]
    }
  ]
}